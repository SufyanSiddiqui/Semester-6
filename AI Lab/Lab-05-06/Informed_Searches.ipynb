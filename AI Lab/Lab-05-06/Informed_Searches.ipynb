{
  "nbformat": 4,
  "nbformat_minor": 0,
  "metadata": {
    "kernelspec": {
      "display_name": "Python 3",
      "language": "python",
      "name": "python3"
    },
    "language_info": {
      "codemirror_mode": {
        "name": "ipython",
        "version": 3
      },
      "file_extension": ".py",
      "mimetype": "text/x-python",
      "name": "python",
      "nbconvert_exporter": "python",
      "pygments_lexer": "ipython3",
      "version": "3.8.5"
    },
    "colab": {
      "name": "Informed Searches.ipynb",
      "provenance": []
    }
  },
  "cells": [
    {
      "cell_type": "markdown",
      "metadata": {
        "id": "O0tVVDW5qOAn"
      },
      "source": [
        "# Greedy Best First Search and A*"
      ]
    },
    {
      "cell_type": "markdown",
      "metadata": {
        "id": "I3LFL2A2qOAx"
      },
      "source": [
        "## Tree"
      ]
    },
    {
      "cell_type": "code",
      "metadata": {
        "id": "gLyb6PDJqOAy",
        "outputId": "2ef40e02-fb4e-46b9-b41c-83f37524ab8c"
      },
      "source": [
        "from queue import Queue\n",
        "class Node: \n",
        "\n",
        "    def __init__(self , data,h): \n",
        "        self.data = data \n",
        "        self.left = None\n",
        "        self.right = None\n",
        "        self.h=h\n",
        "\n",
        "\n",
        "open=[]\n",
        "close=[]\n",
        "\n",
        "found=False\n",
        "goal='H'\n",
        "\n",
        "root = Node('S',13); \n",
        "root.left = Node('A',12); \n",
        "root.right = Node('B',4);  \n",
        "root.right.left = Node('E',8); \n",
        "root.right.right = Node('F',2); \n",
        "root.right.right.right = Node('G',4);\n",
        "root.right.right.left = Node('I',9);\n",
        "root.right.left.left = Node('H',0);\n",
        "\n",
        "def greedybfs(node):\n",
        "    \n",
        "    global found\n",
        "    open.append(node)\n",
        "    while(not found):\n",
        "        current=open[0]\n",
        "        open.pop(0)\n",
        "        close.append(current.data)\n",
        "        if current.data==goal:\n",
        "            found=True\n",
        "        else:\n",
        "            if current.left:\n",
        "                open.append(current.left)\n",
        "            if current.right:\n",
        "                open.append(current.right)\n",
        "            \n",
        "        open.sort(key=lambda x: x.h)  \n",
        "        \n",
        "greedybfs(root)   \n",
        "close   "
      ],
      "execution_count": null,
      "outputs": [
        {
          "output_type": "execute_result",
          "data": {
            "text/plain": [
              "['S', 'B', 'F', 'G', 'E', 'H']"
            ]
          },
          "metadata": {
            "tags": []
          },
          "execution_count": 33
        }
      ]
    },
    {
      "cell_type": "markdown",
      "metadata": {
        "id": "csQMbzT1qOA0"
      },
      "source": [
        "# Maze using best first search"
      ]
    },
    {
      "cell_type": "code",
      "metadata": {
        "id": "T8evCDdsqOA1",
        "outputId": "0fac99e9-91d1-40ae-b5b1-6757c314437a"
      },
      "source": [
        "maze=[[1,0,0,1,1],[1,0,1,1,0],[1,1,1,0,0],[0,0,1,0,0],['A',1,1,0,0]]\n",
        "\n",
        "\n",
        "open=[]\n",
        "closed=[]\n",
        "start='A'\n",
        "found=False\n",
        "visited=[]\n",
        "\n",
        "max_col=5\n",
        "max_row=4\n",
        "\n",
        "def find(value):\n",
        "\n",
        "    for i in range(len(maze)):\n",
        "        for j in range(len(maze[0])):\n",
        "            if value==maze[i][j]:\n",
        "                row=i\n",
        "                col=j\n",
        "                return(row,col)\n",
        "                break\n",
        "\n",
        "open.append(find('A'))\n",
        "goal=(0,4)\n",
        "\n",
        "while(not found):\n",
        "    if len(open)==0:\n",
        "        break\n",
        "   \n",
        "    current=open[0]\n",
        "    visited.append(current)\n",
        "    closed.append(current)\n",
        "    open.remove(current)\n",
        "    if current==goal:\n",
        "       # closed.append(current)\n",
        "        found=True\n",
        "    else:\n",
        "        # generate childs of current node\n",
        "        if current[0]+1<=max_row:\n",
        "            if maze[current[0]+1][current[1]]==1 and (current[0]+1,current[1]) not in visited:\n",
        "                open.append((current[0]+1,current[1]))\n",
        "        if current[0]-1>=0:\n",
        "            if maze[current[0]-1][current[1]]==1 and (current[0]-1,current[1]) not in visited:\n",
        "                open.append((current[0]-1,current[1]))\n",
        "        if current[1]+1<=max_col:\n",
        "            if maze[current[0]][current[1]+1]==1 and (current[0],current[1]+1) not in visited:\n",
        "                open.append((current[0],current[1]+1))\n",
        "        if current[1]-1>=0:\n",
        "            if maze[current[0]][current[1]-1]==1 and (current[0],current[1]-1) not in visited:\n",
        "                open.append((current[0],current[1]-1))\n",
        "       \n",
        "        #sorting on the basis of heuristic\n",
        "        h_val=[]\n",
        "\n",
        "        for i in open:\n",
        "            a=(i,abs(i[0]-goal[0])+abs(i[1]-goal[1]))\n",
        "            h_val.append(a)\n",
        "        h_val.sort(key = lambda x: x[1])\n",
        "        open=[]\n",
        "        for i in range(len(h_val)):\n",
        "            open.append(h_val[i][0])\n",
        "\n",
        "closed"
      ],
      "execution_count": null,
      "outputs": [
        {
          "output_type": "execute_result",
          "data": {
            "text/plain": [
              "[(4, 0), (4, 1), (4, 2), (3, 2), (2, 2), (1, 2), (1, 3), (0, 3), (0, 4)]"
            ]
          },
          "metadata": {
            "tags": []
          },
          "execution_count": 2
        }
      ]
    }
  ]
}