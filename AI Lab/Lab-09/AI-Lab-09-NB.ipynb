{
 "metadata": {
  "language_info": {
   "codemirror_mode": {
    "name": "ipython",
    "version": 3
   },
   "file_extension": ".py",
   "mimetype": "text/x-python",
   "name": "python",
   "nbconvert_exporter": "python",
   "pygments_lexer": "ipython3",
   "version": "3.8.5"
  },
  "orig_nbformat": 2,
  "kernelspec": {
   "name": "python385jvsc74a57bd06d46af94c2bbce495f1e668725902fa517c90b1782bcfe2fce0dd9868df553d3",
   "display_name": "Python 3.8.5 64-bit (conda)"
  }
 },
 "nbformat": 4,
 "nbformat_minor": 2,
 "cells": [
  {
   "cell_type": "code",
   "execution_count": 12,
   "metadata": {},
   "outputs": [
    {
     "output_type": "execute_result",
     "data": {
      "text/plain": [
       "'K18-1161 - Muhammad Sufyan Siddiqui - AI-Lab-09 (Naive Bayes) '"
      ]
     },
     "metadata": {},
     "execution_count": 12
    }
   ],
   "source": [
    "'''K18-1161 - Muhammad Sufyan Siddiqui - AI-Lab-09 (Naive Bayes) '''"
   ]
  },
  {
   "cell_type": "code",
   "execution_count": 1,
   "metadata": {},
   "outputs": [],
   "source": [
    "from sklearn.preprocessing import LabelEncoder\n",
    "from sklearn.naive_bayes import GaussianNB, MultinomialNB\n",
    "from sklearn.metrics import accuracy_score\n",
    "from sklearn.metrics import classification_report"
   ]
  },
  {
   "cell_type": "code",
   "execution_count": 2,
   "metadata": {},
   "outputs": [],
   "source": [
    "#Task 1\n",
    "weather=['Sunny','Sunny','Overcast','Rainy','Rainy','Rainy','Overcast','Sunny','Sunny',\n",
    "'Rainy','Sunny','Overcast','Overcast','Rainy']\n",
    "temp=['Hot','Hot','Hot','Mild','Cool','Cool','Cool','Mild','Cool','Mild','Mild','Mild','Hot','Mild']\n",
    "humidity = ['high','high','high','high','normal','normal','normal','high','normal','normal','normal','high','normal','high']\n",
    "windy = [False,True,False,False,False,True,True,False,False,False,True,True,False,True]\n",
    "play=['No','No','Yes','Yes','Yes','No','Yes','No','Yes','Yes','Yes','Yes','Yes','No']\n"
   ]
  },
  {
   "cell_type": "code",
   "execution_count": 3,
   "metadata": {},
   "outputs": [
    {
     "output_type": "stream",
     "name": "stdout",
     "text": [
      "Weather [2 2 0 1 1 1 0 2 2 1 2 0 0 1]\nTemp: [1 1 1 2 0 0 0 2 0 2 2 2 1 2]\nPlay: [0 0 1 1 1 0 1 0 1 1 1 1 1 0]\nWindy: [0 1 0 0 0 1 1 0 0 0 1 1 0 1]\nHumidity: [0 0 0 0 1 1 1 0 1 1 1 0 1 0]\n"
     ]
    }
   ],
   "source": [
    "le = LabelEncoder()\n",
    "weather_encoded=le.fit_transform(weather)\n",
    "temp_encoded=le.fit_transform(temp)\n",
    "label=le.fit_transform(play)\n",
    "humidity_encoded = le.fit_transform(humidity)\n",
    "windy_encoded = le.fit_transform(windy)\n",
    "print (\"Weather\",weather_encoded)\n",
    "print (\"Temp:\",temp_encoded)\n",
    "print (\"Play:\",label)\n",
    "print(\"Windy:\",windy_encoded)\n",
    "print(\"Humidity:\",humidity_encoded)\n"
   ]
  },
  {
   "cell_type": "code",
   "execution_count": 4,
   "metadata": {},
   "outputs": [
    {
     "output_type": "stream",
     "name": "stdout",
     "text": [
      "[1]\nAccuracy:  1.0\n"
     ]
    }
   ],
   "source": [
    "features = list(zip(weather_encoded,temp_encoded,humidity_encoded,windy_encoded))\n",
    "nb = GaussianNB()\n",
    "model = nb.fit(features,label)\n",
    "xtest=[[0,2,0,1]]\n",
    "ypred = model.predict(xtest)\n",
    "print(ypred)\n",
    "print(\"Accuracy: \",accuracy_score([1],[1]))\n",
    "\n",
    "\n",
    "\n"
   ]
  },
  {
   "cell_type": "code",
   "execution_count": 5,
   "metadata": {},
   "outputs": [
    {
     "output_type": "execute_result",
     "data": {
      "text/plain": [
       "    area  perimeter  compactness  kernel-length  kernel-width  \\\n",
       "0  15.26      14.84       0.8710          5.763         3.312   \n",
       "1  14.88      14.57       0.8811          5.554         3.333   \n",
       "2  14.29      14.09       0.9050          5.291         3.337   \n",
       "3  13.84      13.94       0.8955          5.324         3.379   \n",
       "4  16.14      14.99       0.9034          5.658         3.562   \n",
       "\n",
       "   asymmetry-coefficient  kernel-groove-length  wheat-class  \n",
       "0                  2.221                 5.220            1  \n",
       "1                  1.018                 4.956            1  \n",
       "2                  2.699                 4.825            1  \n",
       "3                  2.259                 4.805            1  \n",
       "4                  1.355                 5.175            1  "
      ],
      "text/html": "<div>\n<style scoped>\n    .dataframe tbody tr th:only-of-type {\n        vertical-align: middle;\n    }\n\n    .dataframe tbody tr th {\n        vertical-align: top;\n    }\n\n    .dataframe thead th {\n        text-align: right;\n    }\n</style>\n<table border=\"1\" class=\"dataframe\">\n  <thead>\n    <tr style=\"text-align: right;\">\n      <th></th>\n      <th>area</th>\n      <th>perimeter</th>\n      <th>compactness</th>\n      <th>kernel-length</th>\n      <th>kernel-width</th>\n      <th>asymmetry-coefficient</th>\n      <th>kernel-groove-length</th>\n      <th>wheat-class</th>\n    </tr>\n  </thead>\n  <tbody>\n    <tr>\n      <th>0</th>\n      <td>15.26</td>\n      <td>14.84</td>\n      <td>0.8710</td>\n      <td>5.763</td>\n      <td>3.312</td>\n      <td>2.221</td>\n      <td>5.220</td>\n      <td>1</td>\n    </tr>\n    <tr>\n      <th>1</th>\n      <td>14.88</td>\n      <td>14.57</td>\n      <td>0.8811</td>\n      <td>5.554</td>\n      <td>3.333</td>\n      <td>1.018</td>\n      <td>4.956</td>\n      <td>1</td>\n    </tr>\n    <tr>\n      <th>2</th>\n      <td>14.29</td>\n      <td>14.09</td>\n      <td>0.9050</td>\n      <td>5.291</td>\n      <td>3.337</td>\n      <td>2.699</td>\n      <td>4.825</td>\n      <td>1</td>\n    </tr>\n    <tr>\n      <th>3</th>\n      <td>13.84</td>\n      <td>13.94</td>\n      <td>0.8955</td>\n      <td>5.324</td>\n      <td>3.379</td>\n      <td>2.259</td>\n      <td>4.805</td>\n      <td>1</td>\n    </tr>\n    <tr>\n      <th>4</th>\n      <td>16.14</td>\n      <td>14.99</td>\n      <td>0.9034</td>\n      <td>5.658</td>\n      <td>3.562</td>\n      <td>1.355</td>\n      <td>5.175</td>\n      <td>1</td>\n    </tr>\n  </tbody>\n</table>\n</div>"
     },
     "metadata": {},
     "execution_count": 5
    }
   ],
   "source": [
    "#Task 2\n",
    "'''To construct the data, seven geometric parameters of wheat kernels were measured:\n",
    "1. area A,\n",
    "2. perimeter P,\n",
    "3. compactness C = 4*pi*A/P^2,\n",
    "4. length of kernel,\n",
    "5. width of kernel,\n",
    "6. asymmetry coefficient\n",
    "7. length of kernel groove.\n",
    "'''\n",
    "import pandas as pd\n",
    "import numpy as np\n",
    "from sklearn.model_selection import train_test_split\n",
    "names = ['area','perimeter','compactness','kernel-length','kernel-width','asymmetry-coefficient','kernel-groove-length','wheat-class']\n",
    "df = pd.read_csv('seeds_dataset.txt',names=names,delimiter='\\t')\n",
    "df.head()"
   ]
  },
  {
   "cell_type": "code",
   "execution_count": 6,
   "metadata": {},
   "outputs": [
    {
     "output_type": "stream",
     "name": "stdout",
     "text": [
      "Accuracy:  0.9047619047619048\nClassification Report\n              precision    recall  f1-score   support\n\n         1.0       0.87      0.87      0.87        23\n         2.0       1.00      0.96      0.98        25\n         3.0       0.81      0.87      0.84        15\n\n    accuracy                           0.90        63\n   macro avg       0.89      0.90      0.90        63\nweighted avg       0.91      0.90      0.91        63\n\n"
     ]
    }
   ],
   "source": [
    "array = df.values\n",
    "x = array[:,0:7]\n",
    "y = array[:,7]\n",
    "t = 0.30\n",
    "x_train, x_test, y_train, y_test = train_test_split(x,y,test_size=t,random_state =6)\n",
    "nb = GaussianNB()\n",
    "model = nb.fit(x_train,y_train)\n",
    "y_pred = model.predict(x_test)\n",
    "print(\"Accuracy: \",accuracy_score(y_true=y_test,y_pred=y_pred))\n",
    "print(\"Classification Report\")\n",
    "print(classification_report(y_test,y_pred))\n",
    "\n"
   ]
  },
  {
   "cell_type": "code",
   "execution_count": 7,
   "metadata": {},
   "outputs": [
    {
     "output_type": "execute_result",
     "data": {
      "text/plain": [
       "  label                                               text\n",
       "0   ham  Go until jurong point, crazy.. Available only ...\n",
       "1   ham                      Ok lar... Joking wif u oni...\n",
       "2  spam  Free entry in 2 a wkly comp to win FA Cup fina...\n",
       "3   ham  U dun say so early hor... U c already then say...\n",
       "4   ham  Nah I don't think he goes to usf, he lives aro..."
      ],
      "text/html": "<div>\n<style scoped>\n    .dataframe tbody tr th:only-of-type {\n        vertical-align: middle;\n    }\n\n    .dataframe tbody tr th {\n        vertical-align: top;\n    }\n\n    .dataframe thead th {\n        text-align: right;\n    }\n</style>\n<table border=\"1\" class=\"dataframe\">\n  <thead>\n    <tr style=\"text-align: right;\">\n      <th></th>\n      <th>label</th>\n      <th>text</th>\n    </tr>\n  </thead>\n  <tbody>\n    <tr>\n      <th>0</th>\n      <td>ham</td>\n      <td>Go until jurong point, crazy.. Available only ...</td>\n    </tr>\n    <tr>\n      <th>1</th>\n      <td>ham</td>\n      <td>Ok lar... Joking wif u oni...</td>\n    </tr>\n    <tr>\n      <th>2</th>\n      <td>spam</td>\n      <td>Free entry in 2 a wkly comp to win FA Cup fina...</td>\n    </tr>\n    <tr>\n      <th>3</th>\n      <td>ham</td>\n      <td>U dun say so early hor... U c already then say...</td>\n    </tr>\n    <tr>\n      <th>4</th>\n      <td>ham</td>\n      <td>Nah I don't think he goes to usf, he lives aro...</td>\n    </tr>\n  </tbody>\n</table>\n</div>"
     },
     "metadata": {},
     "execution_count": 7
    }
   ],
   "source": [
    "#Task 3\n",
    "\n",
    "from sklearn.feature_extraction.text import CountVectorizer\n",
    "df2 = pd.read_csv('spam.csv',encoding='latin-1')\n",
    "\n",
    "df2.drop(['Unnamed: 2','Unnamed: 3','Unnamed: 4'],axis=1,inplace=True)\n",
    "df2.rename(columns={'v1':'label','v2':'text'},inplace=True)\n",
    "df2.head()"
   ]
  },
  {
   "cell_type": "code",
   "execution_count": 8,
   "metadata": {},
   "outputs": [
    {
     "output_type": "stream",
     "name": "stdout",
     "text": [
      "ham     4825\nspam     747\nName: label, dtype: int64\n  label                                               text  numerical_label\n0   ham  Go until jurong point, crazy.. Available only ...                0\n1   ham                      Ok lar... Joking wif u oni...                0\n2  spam  Free entry in 2 a wkly comp to win FA Cup fina...                1\n3   ham  U dun say so early hor... U c already then say...                0\n4   ham  Nah I don't think he goes to usf, he lives aro...                0\n"
     ]
    },
    {
     "output_type": "execute_result",
     "data": {
      "text/plain": [
       "CountVectorizer(stop_words='english')"
      ]
     },
     "metadata": {},
     "execution_count": 8
    }
   ],
   "source": [
    "print(df2.label.value_counts())\n",
    "df2['numerical_label'] = df2.label.map({'ham':0, 'spam':1})\n",
    "print(df2.head())\n",
    "X_train,X_test,y_train,y_test = train_test_split(df2[\"text\"],df2[\"label\"], test_size = 0.3, random_state = 6)\n",
    "vect = CountVectorizer(stop_words='english')\n",
    "vect.fit(X_train)"
   ]
  },
  {
   "cell_type": "code",
   "execution_count": 9,
   "metadata": {},
   "outputs": [
    {
     "output_type": "stream",
     "name": "stdout",
     "text": [
      "Accuracy:  0.986244019138756\nClassification Report\n              precision    recall  f1-score   support\n\n         Ham       0.99      0.99      0.99      1432\n        Spam       0.96      0.94      0.95       240\n\n    accuracy                           0.99      1672\n   macro avg       0.98      0.97      0.97      1672\nweighted avg       0.99      0.99      0.99      1672\n\n"
     ]
    }
   ],
   "source": [
    "X_train2 = vect.transform(X_train)\n",
    "X_test2 = vect.transform(X_test)\n",
    "predict = dict()\n",
    "mnb = MultinomialNB()\n",
    "model = mnb.fit(X_train2,y_train)\n",
    "predict['Naive Bayes'] = model.predict(X_test2)\n",
    "print(\"Accuracy: \",accuracy_score(y_true=y_test,y_pred=predict['Naive Bayes']))\n",
    "print(\"Classification Report\")\n",
    "print(classification_report(y_true=y_test,y_pred=predict['Naive Bayes'],target_names=['Ham','Spam']))\n",
    "\n"
   ]
  }
 ]
}