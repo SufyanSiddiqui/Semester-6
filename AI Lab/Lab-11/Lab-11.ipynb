{
 "metadata": {
  "language_info": {
   "codemirror_mode": {
    "name": "ipython",
    "version": 3
   },
   "file_extension": ".py",
   "mimetype": "text/x-python",
   "name": "python",
   "nbconvert_exporter": "python",
   "pygments_lexer": "ipython3",
   "version": "3.8.5"
  },
  "orig_nbformat": 2,
  "kernelspec": {
   "name": "python385jvsc74a57bd06d46af94c2bbce495f1e668725902fa517c90b1782bcfe2fce0dd9868df553d3",
   "display_name": "Python 3.8.5 64-bit ('base': conda)"
  }
 },
 "nbformat": 4,
 "nbformat_minor": 2,
 "cells": [
  {
   "source": [
    "** Muhammad Sufyan Siddiqui - 18K-1161 - AI-Lab-11**"
   ],
   "cell_type": "markdown",
   "metadata": {}
  },
  {
   "source": [
    "**Question 1**"
   ],
   "cell_type": "markdown",
   "metadata": {}
  },
  {
   "cell_type": "code",
   "execution_count": 87,
   "metadata": {},
   "outputs": [],
   "source": [
    "import pandas as pd\n",
    "import numpy as np\n",
    "import scipy.stats as sc\n",
    "import math\n",
    "from sklearn.preprocessing import StandardScaler\n",
    "import random\n",
    "from matplotlib import pyplot as plt"
   ]
  },
  {
   "cell_type": "code",
   "execution_count": 88,
   "metadata": {},
   "outputs": [
    {
     "output_type": "execute_result",
     "data": {
      "text/plain": [
       "   CustomerID   Genre  Age  Annual Income (k$)  Spending Score (1-100)\n",
       "0           1    Male   19                  15                      39\n",
       "1           2    Male   21                  15                      81\n",
       "2           3  Female   20                  16                       6\n",
       "3           4  Female   23                  16                      77\n",
       "4           5  Female   31                  17                      40"
      ],
      "text/html": "<div>\n<style scoped>\n    .dataframe tbody tr th:only-of-type {\n        vertical-align: middle;\n    }\n\n    .dataframe tbody tr th {\n        vertical-align: top;\n    }\n\n    .dataframe thead th {\n        text-align: right;\n    }\n</style>\n<table border=\"1\" class=\"dataframe\">\n  <thead>\n    <tr style=\"text-align: right;\">\n      <th></th>\n      <th>CustomerID</th>\n      <th>Genre</th>\n      <th>Age</th>\n      <th>Annual Income (k$)</th>\n      <th>Spending Score (1-100)</th>\n    </tr>\n  </thead>\n  <tbody>\n    <tr>\n      <th>0</th>\n      <td>1</td>\n      <td>Male</td>\n      <td>19</td>\n      <td>15</td>\n      <td>39</td>\n    </tr>\n    <tr>\n      <th>1</th>\n      <td>2</td>\n      <td>Male</td>\n      <td>21</td>\n      <td>15</td>\n      <td>81</td>\n    </tr>\n    <tr>\n      <th>2</th>\n      <td>3</td>\n      <td>Female</td>\n      <td>20</td>\n      <td>16</td>\n      <td>6</td>\n    </tr>\n    <tr>\n      <th>3</th>\n      <td>4</td>\n      <td>Female</td>\n      <td>23</td>\n      <td>16</td>\n      <td>77</td>\n    </tr>\n    <tr>\n      <th>4</th>\n      <td>5</td>\n      <td>Female</td>\n      <td>31</td>\n      <td>17</td>\n      <td>40</td>\n    </tr>\n  </tbody>\n</table>\n</div>"
     },
     "metadata": {},
     "execution_count": 88
    }
   ],
   "source": [
    "dataset = pd.read_csv(\"Mall_Customers.csv\")\n",
    "dataset.head()"
   ]
  },
  {
   "cell_type": "code",
   "execution_count": 89,
   "metadata": {},
   "outputs": [
    {
     "output_type": "execute_result",
     "data": {
      "text/plain": [
       "   Age  Annual Income (k$)  Spending Score (1-100)\n",
       "0   19                  15                      39\n",
       "1   21                  15                      81\n",
       "2   20                  16                       6\n",
       "3   23                  16                      77\n",
       "4   31                  17                      40"
      ],
      "text/html": "<div>\n<style scoped>\n    .dataframe tbody tr th:only-of-type {\n        vertical-align: middle;\n    }\n\n    .dataframe tbody tr th {\n        vertical-align: top;\n    }\n\n    .dataframe thead th {\n        text-align: right;\n    }\n</style>\n<table border=\"1\" class=\"dataframe\">\n  <thead>\n    <tr style=\"text-align: right;\">\n      <th></th>\n      <th>Age</th>\n      <th>Annual Income (k$)</th>\n      <th>Spending Score (1-100)</th>\n    </tr>\n  </thead>\n  <tbody>\n    <tr>\n      <th>0</th>\n      <td>19</td>\n      <td>15</td>\n      <td>39</td>\n    </tr>\n    <tr>\n      <th>1</th>\n      <td>21</td>\n      <td>15</td>\n      <td>81</td>\n    </tr>\n    <tr>\n      <th>2</th>\n      <td>20</td>\n      <td>16</td>\n      <td>6</td>\n    </tr>\n    <tr>\n      <th>3</th>\n      <td>23</td>\n      <td>16</td>\n      <td>77</td>\n    </tr>\n    <tr>\n      <th>4</th>\n      <td>31</td>\n      <td>17</td>\n      <td>40</td>\n    </tr>\n  </tbody>\n</table>\n</div>"
     },
     "metadata": {},
     "execution_count": 89
    }
   ],
   "source": [
    "Genre = dataset['Genre']\n",
    "dataset.drop(columns=['CustomerID','Genre'],inplace=True)\n",
    "dataset.head()"
   ]
  },
  {
   "cell_type": "code",
   "execution_count": 90,
   "metadata": {},
   "outputs": [
    {
     "output_type": "execute_result",
     "data": {
      "text/plain": [
       "   Age  Annual Income (k$)  Spending Score (1-100)   Genre\n",
       "0   19                  15                      39    Male\n",
       "1   21                  15                      81    Male\n",
       "2   20                  16                       6  Female\n",
       "3   23                  16                      77  Female\n",
       "4   31                  17                      40  Female"
      ],
      "text/html": "<div>\n<style scoped>\n    .dataframe tbody tr th:only-of-type {\n        vertical-align: middle;\n    }\n\n    .dataframe tbody tr th {\n        vertical-align: top;\n    }\n\n    .dataframe thead th {\n        text-align: right;\n    }\n</style>\n<table border=\"1\" class=\"dataframe\">\n  <thead>\n    <tr style=\"text-align: right;\">\n      <th></th>\n      <th>Age</th>\n      <th>Annual Income (k$)</th>\n      <th>Spending Score (1-100)</th>\n      <th>Genre</th>\n    </tr>\n  </thead>\n  <tbody>\n    <tr>\n      <th>0</th>\n      <td>19</td>\n      <td>15</td>\n      <td>39</td>\n      <td>Male</td>\n    </tr>\n    <tr>\n      <th>1</th>\n      <td>21</td>\n      <td>15</td>\n      <td>81</td>\n      <td>Male</td>\n    </tr>\n    <tr>\n      <th>2</th>\n      <td>20</td>\n      <td>16</td>\n      <td>6</td>\n      <td>Female</td>\n    </tr>\n    <tr>\n      <th>3</th>\n      <td>23</td>\n      <td>16</td>\n      <td>77</td>\n      <td>Female</td>\n    </tr>\n    <tr>\n      <th>4</th>\n      <td>31</td>\n      <td>17</td>\n      <td>40</td>\n      <td>Female</td>\n    </tr>\n  </tbody>\n</table>\n</div>"
     },
     "metadata": {},
     "execution_count": 90
    }
   ],
   "source": [
    "dataset['Genre'] = Genre\n",
    "dataset.head()"
   ]
  },
  {
   "cell_type": "code",
   "execution_count": 91,
   "metadata": {},
   "outputs": [
    {
     "output_type": "stream",
     "name": "stdout",
     "text": [
      "test row [24 39 65 'Female']\nFor the given test data:\n[24, 39, 65]\nPredicted class is:\n5NN:  Female with a distance of 0.0\n"
     ]
    }
   ],
   "source": [
    "def Eucld(row1,row2):\n",
    "    dist=0.0\n",
    "    for i in range(len(row1)-1):\n",
    "        dist+=(row1[i]-row2[i])**2\n",
    "    return np.sqrt(dist)\n",
    "def NeighborClassifier(train_data, test_row,n):\n",
    "    distances = list()\n",
    "    distance=0\n",
    "    label=''\n",
    "    for i in train_data:\n",
    "        dist=Eucld(test_row,i)\n",
    "        distances.append((i[-1],dist))\n",
    "    distances = sorted(distances)\n",
    "    #print(len(distances))\n",
    "    labels = list(range(len(distances)))\n",
    "    newdist = list(range(len(distances)))\n",
    "    #print(len(labels))\n",
    "    for i in range(len(distances)):\n",
    "        label,distance = distances[i]\n",
    "        labels[i]=label\n",
    "        newdist[i]=distance\n",
    "\n",
    "\n",
    "    print(\"For the given test data:\")\n",
    "    print(test_row[:-1])\n",
    "    print(\"Predicted class is:\")\n",
    "    labels = np.array(labels)\n",
    "    newdist = np.array(newdist)\n",
    "    indexes  = labels.argsort()[:n]\n",
    "    indexes2 = newdist.argsort()[:n]\n",
    "    #print(indexes)\n",
    "    minvals = labels[indexes]\n",
    "    mindists = newdist[indexes2]\n",
    "    #print(\"Top labels\",minvals)\n",
    "    #print(\"Top Distances\",mindists)\n",
    "    pred,count = sc.mode(minvals)\n",
    "    distance,count = sc.mode(mindists)\n",
    "    print(str(n)+\"NN: \",str(pred[0]),\"with a distance of\",float(distance[0]))\n",
    "\n",
    "def InitiatorSelfCNN(dataset):\n",
    "    dataset.reset_index(drop=True,inplace=True)\n",
    "    train_data=list(list(dataset.values))\n",
    "    test_row=train_data[45]\n",
    "    print(\"test row\",test_row)\n",
    "    test_row=list(test_row)\n",
    "    train_data.pop(0)\n",
    "    NeighborClassifier(train_data,test_row,5)\n",
    "InitiatorSelfCNN(dataset)\n"
   ]
  },
  {
   "cell_type": "code",
   "execution_count": 92,
   "metadata": {},
   "outputs": [],
   "source": [
    "#regressor\n",
    "def NeighborRegressor(train_data, test_row,n):\n",
    "    distances = list()\n",
    "    distance=0\n",
    "    label=''\n",
    "    for i in train_data:\n",
    "        dist=Eucld(test_row,i)\n",
    "        distances.append((i[-1],dist))\n",
    "    distances = sorted(distances)\n",
    "    #print(len(distances))\n",
    "    labels = list(range(len(distances)))\n",
    "    newdist = list(range(len(distances)))\n",
    "    #print(len(labels))\n",
    "    for i in range(len(distances)):\n",
    "        label,distance = distances[i]\n",
    "        labels[i]=label\n",
    "        newdist[i]=distance\n",
    "\n",
    "\n",
    "    print(\"For the given test data:\")\n",
    "    print(test_row[:-1])\n",
    "    print(\"Predicted class is:\")\n",
    "    labels = np.array(labels)\n",
    "    newdist = np.array(newdist)\n",
    "    indexes  = labels.argsort()[:n]\n",
    "    indexes2 = newdist.argsort()[:n]\n",
    "    #print(indexes)\n",
    "    minvals = labels[indexes]\n",
    "    mindists = newdist[indexes2]\n",
    "    #print(\"Top labels\",minvals)\n",
    "    #print(\"Top Distances\",mindists)\n",
    "    \n",
    "    pred = np.mean((minvals))\n",
    "    print(str(n)+\"NN: \",\"y'=\",pred)\n",
    "\n",
    "\n",
    "\n",
    "def InitiatorSelfRNN(dataset):\n",
    "    dataset.reset_index(drop=True,inplace=True)\n",
    "    train_data=list(list(dataset.values))\n",
    "    test_row=train_data[45]\n",
    "    print(\"test row\",test_row)\n",
    "    test_row=list(test_row)\n",
    "    train_data.pop(0)\n",
    "    NeighborRegressor(train_data,test_row,5)\n",
    "\n"
   ]
  },
  {
   "cell_type": "code",
   "execution_count": 93,
   "metadata": {},
   "outputs": [
    {
     "output_type": "stream",
     "name": "stdout",
     "text": [
      "test row [ 0 24 39 65]\nFor the given test data:\n[0, 24, 39]\nPredicted class is:\n5NN:  y'= 2.6\n"
     ]
    }
   ],
   "source": [
    "rdataset = pd.read_csv(\"Mall_Customers.csv\")\n",
    "rdataset.drop(columns=['CustomerID'],inplace=True)\n",
    "rdataset['Genre']=rdataset['Genre'].replace(to_replace='Male',value=1)\n",
    "rdataset['Genre']=rdataset['Genre'].replace(to_replace='Female',value=0)\n",
    "rdataset.head()\n",
    "InitiatorSelfRNN(rdataset)"
   ]
  },
  {
   "source": [
    "**Question 2 - KMeans**"
   ],
   "cell_type": "markdown",
   "metadata": {}
  },
  {
   "cell_type": "code",
   "execution_count": 94,
   "metadata": {},
   "outputs": [
    {
     "output_type": "stream",
     "name": "stdout",
     "text": [
      "(200, 4)\n"
     ]
    },
    {
     "output_type": "execute_result",
     "data": {
      "text/plain": [
       "          0         1         2         3\n",
       "0  1.128152 -1.424569 -1.738999 -0.434801\n",
       "1  1.128152 -1.281035 -1.738999  1.195704\n",
       "2 -0.886405 -1.352802 -1.700830 -1.715913\n",
       "3 -0.886405 -1.137502 -1.700830  1.040418\n",
       "4 -0.886405 -0.563369 -1.662660 -0.395980"
      ],
      "text/html": "<div>\n<style scoped>\n    .dataframe tbody tr th:only-of-type {\n        vertical-align: middle;\n    }\n\n    .dataframe tbody tr th {\n        vertical-align: top;\n    }\n\n    .dataframe thead th {\n        text-align: right;\n    }\n</style>\n<table border=\"1\" class=\"dataframe\">\n  <thead>\n    <tr style=\"text-align: right;\">\n      <th></th>\n      <th>0</th>\n      <th>1</th>\n      <th>2</th>\n      <th>3</th>\n    </tr>\n  </thead>\n  <tbody>\n    <tr>\n      <th>0</th>\n      <td>1.128152</td>\n      <td>-1.424569</td>\n      <td>-1.738999</td>\n      <td>-0.434801</td>\n    </tr>\n    <tr>\n      <th>1</th>\n      <td>1.128152</td>\n      <td>-1.281035</td>\n      <td>-1.738999</td>\n      <td>1.195704</td>\n    </tr>\n    <tr>\n      <th>2</th>\n      <td>-0.886405</td>\n      <td>-1.352802</td>\n      <td>-1.700830</td>\n      <td>-1.715913</td>\n    </tr>\n    <tr>\n      <th>3</th>\n      <td>-0.886405</td>\n      <td>-1.137502</td>\n      <td>-1.700830</td>\n      <td>1.040418</td>\n    </tr>\n    <tr>\n      <th>4</th>\n      <td>-0.886405</td>\n      <td>-0.563369</td>\n      <td>-1.662660</td>\n      <td>-0.395980</td>\n    </tr>\n  </tbody>\n</table>\n</div>"
     },
     "metadata": {},
     "execution_count": 94
    }
   ],
   "source": [
    "#df = rdataset\n",
    "std = StandardScaler()\n",
    "df = std.fit_transform(rdataset)\n",
    "df = pd.DataFrame(df)\n",
    "print(df.shape)\n",
    "df.head()"
   ]
  },
  {
   "cell_type": "code",
   "execution_count": 95,
   "metadata": {},
   "outputs": [
    {
     "output_type": "execute_result",
     "data": {
      "text/plain": [
       "[158, 143, 89]"
      ]
     },
     "metadata": {},
     "execution_count": 95
    }
   ],
   "source": [
    "init_centroids = random.sample(range(0, len(df)), 3)\n",
    "init_centroids\n"
   ]
  },
  {
   "cell_type": "code",
   "execution_count": 96,
   "metadata": {},
   "outputs": [],
   "source": [
    "def calc_distance(X1, X2):\n",
    "    return math.sqrt((sum((X1 - X2)**2)))"
   ]
  },
  {
   "cell_type": "code",
   "execution_count": 97,
   "metadata": {},
   "outputs": [
    {
     "output_type": "execute_result",
     "data": {
      "text/plain": [
       "array([[ 1.12815215, -0.34806844,  0.66567484, -1.91002079],\n",
       "       [-0.88640526, -0.49160182,  0.58933599,  1.42863343],\n",
       "       [-0.88640526,  0.80019859, -0.09771374, -0.16305055]])"
      ]
     },
     "metadata": {},
     "execution_count": 97
    }
   ],
   "source": [
    "centroids = []\n",
    "for i in init_centroids:\n",
    "    centroids.append(df.loc[i])\n",
    "centroids\n",
    "centroids = np.array(centroids)\n",
    "centroids"
   ]
  },
  {
   "cell_type": "code",
   "execution_count": 98,
   "metadata": {},
   "outputs": [],
   "source": [
    "def findClosestCentroids(centroids, X):\n",
    "    assigned_centroid = []\n",
    "    for i in range(len(X)):\n",
    "        #print(X.iloc[i,:])\n",
    "        distance=[]\n",
    "        for j in centroids:\n",
    "            distance.append(calc_distance(X.iloc[i], j))\n",
    "        #print(distance)\n",
    "        mindst = np.argmin(distance)\n",
    "        #print(mindst)\n",
    "        assigned_centroid.append(mindst)\n",
    "    return assigned_centroid"
   ]
  },
  {
   "cell_type": "code",
   "execution_count": 99,
   "metadata": {
    "tags": []
   },
   "outputs": [
    {
     "output_type": "stream",
     "name": "stdout",
     "text": [
      "[0, 1, 2, 1, 2, 1, 2, 1, 0, 1, 2, 1, 2, 1, 0, 1, 2, 1, 2, 1, 0, 1, 2, 1, 2, 1, 2, 2, 2, 1, 0, 1, 0, 1, 2, 1, 2, 1, 2, 1, 2, 1, 2, 2, 2, 1, 2, 2, 2, 2, 2, 2, 2, 2, 2, 2, 2, 2, 2, 2, 2, 0, 2, 2, 2, 1, 2, 2, 1, 2, 2, 2, 2, 2, 2, 0, 2, 0, 1, 2, 2, 2, 2, 2, 1, 2, 2, 1, 1, 2, 2, 0, 2, 2, 2, 0, 2, 1, 0, 0, 2, 2, 2, 0, 2, 1, 2, 2, 2, 2, 2, 1, 2, 0, 1, 1, 2, 2, 2, 2, 0, 2, 2, 1, 2, 1, 0, 1, 0, 1, 0, 1, 2, 1, 0, 1, 2, 1, 0, 1, 2, 1, 2, 1, 0, 1, 0, 1, 2, 1, 0, 1, 2, 1, 2, 1, 0, 1, 0, 1, 2, 1, 0, 1, 0, 1, 0, 1, 2, 1, 0, 1, 0, 1, 2, 1, 0, 1, 0, 1, 2, 1, 0, 1, 2, 1, 2, 1, 2, 1, 2, 1, 0, 1, 2, 1, 2, 1, 0, 1]\n"
     ]
    }
   ],
   "source": [
    "get_centroids = findClosestCentroids(centroids, df)\n",
    "print(get_centroids)"
   ]
  },
  {
   "cell_type": "code",
   "execution_count": 100,
   "metadata": {},
   "outputs": [],
   "source": [
    "def calc_centroids(clusters, X):\n",
    "    new_centroids = []\n",
    "    new_df = pd.concat([pd.DataFrame(X), pd.DataFrame(clusters, columns=['cluster'])],axis=1)\n",
    "    #df['Clusters'] = clusters\n",
    "    #print(new_df.head())\n",
    "    for c in set(new_df['cluster']):\n",
    "        #print(c)\n",
    "        current_cluster = new_df[new_df['cluster'] == c][new_df.columns[:-1]]\n",
    "        #print(\"Current Cluster\",current_cluster)\n",
    "        cluster_mean = current_cluster.mean(axis=0)\n",
    "        #print(\"Cluster Mean\",cluster_mean)\n",
    "        new_centroids.append(cluster_mean)\n",
    "    return new_centroids"
   ]
  },
  {
   "cell_type": "code",
   "execution_count": 101,
   "metadata": {
    "tags": []
   },
   "outputs": [
    {
     "output_type": "execute_result",
     "data": {
      "text/plain": [
       "   Genre  Age  Annual Income (k$)  Spending Score (1-100)  Clusters\n",
       "0      1   19                  15                      39         0\n",
       "1      1   21                  15                      81         1\n",
       "2      0   20                  16                       6         2\n",
       "3      0   23                  16                      77         1\n",
       "4      0   31                  17                      40         2"
      ],
      "text/html": "<div>\n<style scoped>\n    .dataframe tbody tr th:only-of-type {\n        vertical-align: middle;\n    }\n\n    .dataframe tbody tr th {\n        vertical-align: top;\n    }\n\n    .dataframe thead th {\n        text-align: right;\n    }\n</style>\n<table border=\"1\" class=\"dataframe\">\n  <thead>\n    <tr style=\"text-align: right;\">\n      <th></th>\n      <th>Genre</th>\n      <th>Age</th>\n      <th>Annual Income (k$)</th>\n      <th>Spending Score (1-100)</th>\n      <th>Clusters</th>\n    </tr>\n  </thead>\n  <tbody>\n    <tr>\n      <th>0</th>\n      <td>1</td>\n      <td>19</td>\n      <td>15</td>\n      <td>39</td>\n      <td>0</td>\n    </tr>\n    <tr>\n      <th>1</th>\n      <td>1</td>\n      <td>21</td>\n      <td>15</td>\n      <td>81</td>\n      <td>1</td>\n    </tr>\n    <tr>\n      <th>2</th>\n      <td>0</td>\n      <td>20</td>\n      <td>16</td>\n      <td>6</td>\n      <td>2</td>\n    </tr>\n    <tr>\n      <th>3</th>\n      <td>0</td>\n      <td>23</td>\n      <td>16</td>\n      <td>77</td>\n      <td>1</td>\n    </tr>\n    <tr>\n      <th>4</th>\n      <td>0</td>\n      <td>31</td>\n      <td>17</td>\n      <td>40</td>\n      <td>2</td>\n    </tr>\n  </tbody>\n</table>\n</div>"
     },
     "metadata": {},
     "execution_count": 101
    }
   ],
   "source": [
    "for i in range(5):\n",
    "    get_centroids = findClosestCentroids(centroids, df)\n",
    "    centroids = calc_centroids(get_centroids, df)\n",
    "rdataset['Clusters'] = get_centroids\n",
    "rdataset.head()\n"
   ]
  },
  {
   "cell_type": "code",
   "execution_count": 102,
   "metadata": {},
   "outputs": [
    {
     "output_type": "execute_result",
     "data": {
      "text/plain": [
       "Clusters\n",
       "0    53\n",
       "1    84\n",
       "2    63\n",
       "dtype: int64"
      ]
     },
     "metadata": {},
     "execution_count": 102
    }
   ],
   "source": [
    "rdataset.groupby('Clusters').size()"
   ]
  }
 ]
}