{
 "cells": [
  {
   "cell_type": "code",
   "execution_count": 1,
   "metadata": {},
   "outputs": [
    {
     "name": "stdout",
     "output_type": "stream",
     "text": [
      "Enter a number2\n"
     ]
    },
    {
     "data": {
      "text/plain": [
       "9"
      ]
     },
     "execution_count": 1,
     "metadata": {},
     "output_type": "execute_result"
    }
   ],
   "source": [
    "#Q1\n",
    "a=2\n",
    "a=input(\"Enter a number\")\n",
    "a=int(a)\n",
    "a=a+3\n",
    "a=a*2\n",
    "a=a-4\n",
    "a=a+3\n",
    "a\n"
   ]
  },
  {
   "cell_type": "code",
   "execution_count": 3,
   "metadata": {},
   "outputs": [
    {
     "name": "stdout",
     "output_type": "stream",
     "text": [
      "Enter radius 5\n",
      "Area is :  78.55\n"
     ]
    }
   ],
   "source": [
    "#Q2\n",
    "r=input(\"Enter radius \")\n",
    "r=float(r)\n",
    "r=pow(r,2)\n",
    "r=r*3.142\n",
    "print(\"Area is : \",r)"
   ]
  },
  {
   "cell_type": "code",
   "execution_count": 38,
   "metadata": {},
   "outputs": [
    {
     "name": "stdout",
     "output_type": "stream",
     "text": [
      "Enter your fav color: red\n",
      "redredredredredredredredred\n",
      "red                     red\n",
      "redredredredredredredredred\n"
     ]
    }
   ],
   "source": [
    "#Q3\n",
    "color=input(\"Enter your fav color: \")\n",
    "end=\" \"*(7*(len(color))-1)\n",
    "for i in range(2):\n",
    "    if i==1:\n",
    "         print(color,end+color)\n",
    "    print(color*9)\n",
    "    \n",
    "        \n",
    "\n",
    "\n",
    "    \n",
    "        \n",
    "    "
   ]
  },
  {
   "cell_type": "code",
   "execution_count": 40,
   "metadata": {},
   "outputs": [
    {
     "name": "stdout",
     "output_type": "stream",
     "text": [
      "Name :  \tSufyan \t\n",
      "Sufyan \t\n",
      "\tSufyan\n",
      "Sufyan\n"
     ]
    }
   ],
   "source": [
    "#Q4\n",
    "name = \"\\t\" + \"Sufyan \" + \"\\t\"\n",
    "print(\"Name : \",name)\n",
    "print(name.lstrip())\n",
    "print(name.rstrip())\n",
    "print(name.strip())\n"
   ]
  },
  {
   "cell_type": "code",
   "execution_count": 46,
   "metadata": {},
   "outputs": [
    {
     "name": "stdout",
     "output_type": "stream",
     "text": [
      "77\n"
     ]
    }
   ],
   "source": [
    "#Q5\n",
    "def Absolute_num(num):\n",
    "    #num = input(\"Enter a negative number\")\n",
    "    num=int(num)\n",
    "    if num < 0:\n",
    "        num=abs(num)\n",
    "    else:\n",
    "        pass\n",
    "    print(num)\n",
    "\n",
    "Absolute_num(-77)"
   ]
  },
  {
   "cell_type": "code",
   "execution_count": 51,
   "metadata": {},
   "outputs": [
    {
     "name": "stdout",
     "output_type": "stream",
     "text": [
      "Enter input2\n",
      "0\n",
      "2\n",
      "4\n",
      "6\n",
      "8\n",
      "10\n",
      "12\n",
      "14\n",
      "16\n",
      "18\n",
      "20\n"
     ]
    }
   ],
   "source": [
    "#Q6\n",
    "num = input(\"Enter input\")\n",
    "num=int(num)\n",
    "for i in range (11):\n",
    "    print(num*i)"
   ]
  },
  {
   "cell_type": "code",
   "execution_count": 58,
   "metadata": {},
   "outputs": [
    {
     "name": "stdout",
     "output_type": "stream",
     "text": [
      "0\n",
      "1\n",
      "2\n",
      "4\n",
      "5\n"
     ]
    }
   ],
   "source": [
    "#Q7\n",
    "for i in range (6):\n",
    "    if i==3 or i==6:\n",
    "        continue\n",
    "    print(i)\n",
    "        "
   ]
  },
  {
   "cell_type": "code",
   "execution_count": 57,
   "metadata": {},
   "outputs": [
    {
     "name": "stdout",
     "output_type": "stream",
     "text": [
      "Please enter your age13\n",
      "Teenager\n"
     ]
    }
   ],
   "source": [
    "#Q8\n",
    "age=input(\"Please enter your age\")\n",
    "age=int(age)\n",
    "if age < 2:\n",
    "    print(\"Baby\")\n",
    "elif age >=4 and age <13:\n",
    "    print(\"Kid\")\n",
    "elif age>=13 and age <20:\n",
    "    print(\"Teenager\")\n",
    "elif age>=20 and age <65:\n",
    "    print(\"Adult\")\n",
    "elif age >= 65:\n",
    "    print(\"Elder\")\n",
    "else:\n",
    "    pass\n",
    "\n"
   ]
  },
  {
   "cell_type": "code",
   "execution_count": null,
   "metadata": {},
   "outputs": [],
   "source": []
  },
  {
   "cell_type": "code",
   "execution_count": null,
   "metadata": {},
   "outputs": [],
   "source": []
  }
 ],
 "metadata": {
  "kernelspec": {
   "display_name": "Python 3",
   "language": "python",
   "name": "python3"
  },
  "language_info": {
   "codemirror_mode": {
    "name": "ipython",
    "version": 3
   },
   "file_extension": ".py",
   "mimetype": "text/x-python",
   "name": "python",
   "nbconvert_exporter": "python",
   "pygments_lexer": "ipython3",
   "version": "3.8.5"
  }
 },
 "nbformat": 4,
 "nbformat_minor": 4
}
