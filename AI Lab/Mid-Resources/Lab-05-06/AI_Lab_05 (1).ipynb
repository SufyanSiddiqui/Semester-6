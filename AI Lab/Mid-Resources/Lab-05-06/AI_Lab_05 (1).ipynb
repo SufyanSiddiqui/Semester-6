{
  "nbformat": 4,
  "nbformat_minor": 0,
  "metadata": {
    "colab": {
      "name": "AI_Lab_05.ipynb",
      "provenance": [],
      "collapsed_sections": []
    },
    "kernelspec": {
      "name": "python3",
      "display_name": "Python 3",
      "language": "python"
    },
    "language_info": {
      "name": "python",
      "version": "3.8.5-final"
    }
  },
  "cells": [
    {
      "cell_type": "code",
      "metadata": {
        "colab": {
          "base_uri": "https://localhost:8080/",
          "height": 374
        },
        "id": "uTc2ljqv8Bww",
        "outputId": "cecc27d6-cb5a-4261-b231-f9a27fc26292"
      },
      "source": [
        "from binarytree import Node \n",
        "from collections import deque\n",
        "root = Node(3) \n",
        "root.left = Node(6) \n",
        "root.right = Node(8)\n",
        "root.left.left = Node(11)\n",
        "root.right.left = Node(18) \n",
        "\n",
        "# Getting binary tree \n",
        "print('Binary tree :', root) \n",
        "\n",
        "# Getting list of nodes \n",
        "#print('List of nodes :', list(root)) \n",
        "\n",
        "# Getting inorder of nodes \n",
        "#print('Inorder of nodes :', root.inorder) \n",
        "\n",
        "# Checking tree properties \n",
        "#print('Size of tree :', root.size) \n",
        "#print('Height of tree :', root.height) \n",
        "\n",
        "# Get all properties at once \n",
        "#print('Properties of tree : \\n', root.properties) \n",
        "def BFS(root,el):\n",
        "  visited, queue = set(), deque([root])\n",
        "  visited.add(root)\n",
        "\n",
        "  while queue:\n",
        "\n",
        "      # Dequeue a vertex from queue\n",
        "      vertex = queue.popleft()\n",
        "\n",
        "\n",
        "      # If not visited, mark it as visited, and\n",
        "      # enqueue it\n",
        "      graph=deque(vertex)\n",
        "      for neighbour in graph:\n",
        "        if neighbour not in visited:\n",
        "          if neighbour.val==el:\n",
        "            return neighbour.val\n",
        "          visited.add(neighbour)\n",
        "          queue.append(neighbour)\n",
        "\n",
        "\n",
        "s=BFS(root,18)\n",
        "if s is None:\n",
        "  print(\"Element Not Found\")\n",
        "else:\n",
        "    print(\"Element Found: \",s)\n"
      ],
      "execution_count": null,
      "outputs": [
        {
          "output_type": "stream",
          "text": [
            "Binary tree : \n",
            "     3___\n",
            "    /    \\\n",
            "  _6     _8\n",
            " /      /\n",
            "11     18\n",
            "\n",
            "Element Found:  18\n"
          ],
          "name": "stdout"
        }
      ]
    },
    {
      "cell_type": "code",
      "metadata": {
        "colab": {
          "base_uri": "https://localhost:8080/"
        },
        "id": "TbMGVkiH8Q_O",
        "outputId": "60b06d3a-060b-4f61-ddf2-59d44653ee46"
      },
      "source": [
        "#Travelling Salesman Problem\n",
        "#DFS\n",
        "\n",
        "from sys import maxsize \n",
        "from itertools import permutations\n",
        "V = 4\n",
        "#Display graph vertices\n",
        "#To display the graph vertices we simple find the keys of the graph dictionary. We use the keys() method.\n",
        "class graph:\n",
        "    def __init__(self,gdict=None):\n",
        "        if gdict is None:\n",
        "            gdict = {}\n",
        "        self.gdict = gdict\n",
        "\n",
        "# Get the keys of the dictionary\n",
        "    def getVertices(self):\n",
        "        return list(self.gdict.keys())\n",
        "\n",
        "# Create the dictionary with graph elements\n",
        "graph_elements = { \"a\" : [\"b\",\"c\"],\n",
        "                \"b\" : [\"a\", \"d\"],\n",
        "                \"c\" : [\"a\", \"d\"],\n",
        "                \"d\" : [\"e\"],\n",
        "                \"e\" : [\"d\"]\n",
        "                }\n",
        "\n",
        "g = graph(graph_elements)\n",
        "def dfs(graph, node, visited):\n",
        "    if node not in visited:\n",
        "        visited.append(node)\n",
        "        for k in graph[node]:\n",
        "            dfs(graph,k, visited)\n",
        "    return visited\n",
        "\n",
        "vis = dfs(graph_elements,'a',[])\n",
        "\n",
        "def travellingSalesmanProblem(graph, s): \n",
        " \n",
        "    # store all vertex apart from source vertex \n",
        "    vertex = [] \n",
        "    for i in range(V): \n",
        "        if i != s: \n",
        "            vertex.append(i) \n",
        "    print(\"Vertex: \",vertex)\n",
        " \n",
        " \n",
        "    min_path = maxsize\n",
        "    print(\"Min path: \",maxsize) \n",
        "    next_permutation=permutations(vertex)\n",
        "\n",
        "    for i in next_permutation:\n",
        "        print(\"i: \",i)\n",
        " \n",
        "        current_pathweight = 0\n",
        " \n",
        "        k = s \n",
        "        for j in i:\n",
        "            print(\"J: \",j) \n",
        "            current_pathweight += graph[k][j] \n",
        "            k = j \n",
        "        current_pathweight += graph[k][s] \n",
        " \n",
        "        # update minimum \n",
        "        min_path = min(min_path, current_pathweight) \n",
        "         \n",
        "    return min_path \n",
        " \n",
        " \n",
        "gtsp = [[0, 10, 15, 20], \n",
        "             [10, 0, 35, 25], \n",
        "             [15, 35, 0, 30], \n",
        "             [20, 25, 30, 0]] \n",
        "s = 0\n",
        "print(travellingSalesmanProblem(gtsp, s))"
      ],
      "execution_count": null,
      "outputs": [
        {
          "output_type": "stream",
          "text": [
            "Vertex:  [1, 2, 3]\n",
            "Min path:  9223372036854775807\n",
            "i:  (1, 2, 3)\n",
            "J:  1\n",
            "J:  2\n",
            "J:  3\n",
            "i:  (1, 3, 2)\n",
            "J:  1\n",
            "J:  3\n",
            "J:  2\n",
            "i:  (2, 1, 3)\n",
            "J:  2\n",
            "J:  1\n",
            "J:  3\n",
            "i:  (2, 3, 1)\n",
            "J:  2\n",
            "J:  3\n",
            "J:  1\n",
            "i:  (3, 1, 2)\n",
            "J:  3\n",
            "J:  1\n",
            "J:  2\n",
            "i:  (3, 2, 1)\n",
            "J:  3\n",
            "J:  2\n",
            "J:  1\n",
            "80\n"
          ],
          "name": "stdout"
        }
      ]
    },
    {
      "cell_type": "code",
      "metadata": {
        "id": "atC4mqPDp7h3",
        "outputId": "73b36583-b29b-4179-9b3a-de5480d56bfe"
      },
      "source": [
        "#MAZE\n",
        "\n",
        "a = [\n",
        "    [1, 1, 1, 1, 1, 1, 1, 1, 1, 1],\n",
        "    [1, 0, 1, 0, 1, 0, 0, 0, 0, 1],\n",
        "    [1, 0, 1, 0, 1, 0, 0, 0, 0, 1],\n",
        "    [1, 0, 1, 0, 1, 1, 1, 1, 0, 1],\n",
        "    [1, 0, 1, 0, 0, 0, 0, 1, 0, 1],\n",
        "    [1, 0, 1, 0, 0, 0, 0, 1, 0, 1],\n",
        "    [1, 0, 0, 0, 0, 0, 0, 1, 0, 1],\n",
        "    [1, 0, 1, 0, 0, 0, 0, 0, 0, 1],\n",
        "    [1, 0, 1, 0, 0, 0, 0, 0, 0, 1],\n",
        "    [1, 1, 1, 1, 1, 1, 1, 1, 1, 1],\n",
        "]\n",
        "\n",
        "start = (1, 1)\n",
        "end = (2, 5)\n",
        "m = []\n",
        "for i in range(len(a)):\n",
        "    m.append([])\n",
        "    for j in range(len(a[i])):\n",
        "        m[-1].append(0)\n",
        "i,j = start\n",
        "m[i][j] = 1\n",
        "\n",
        "#print(m)\n",
        "\n",
        "def make_step(k):\n",
        "  for i in range(len(m)):\n",
        "    for j in range(len(m[i])):\n",
        "      if m[i][j] == k:\n",
        "          #up\n",
        "        if i>0 and m[i-1][j] == 0 and a[i-1][j] == 0:\n",
        "          m[i-1][j] = k + 1\n",
        "          #left\n",
        "        if j>0 and m[i][j-1] == 0 and a[i][j-1] == 0:\n",
        "          m[i][j-1] = k + 1\n",
        "          #down\n",
        "        if i<len(m)-1 and m[i+1][j] == 0 and a[i+1][j] == 0:\n",
        "          m[i+1][j] = k + 1\n",
        "          #right\n",
        "        if j<len(m[i])-1 and m[i][j+1] == 0 and a[i][j+1] == 0:\n",
        "           m[i][j+1] = k + 1\n",
        "\n",
        "k = 0\n",
        "while m[end[0]][end[1]] == 0:\n",
        "    k += 1\n",
        "    make_step(k)\n",
        "print(\"K: \",k)\n",
        "for x,pos in enumerate(m):\n",
        "    print(pos)\n",
        "\n"
      ],
      "execution_count": null,
      "outputs": [
        {
          "output_type": "stream",
          "text": [
            "[[0, 0, 0, 0, 0, 0, 0, 0, 0, 0], [0, 1, 0, 0, 0, 0, 0, 0, 0, 0], [0, 0, 0, 0, 0, 0, 0, 0, 0, 0], [0, 0, 0, 0, 0, 0, 0, 0, 0, 0], [0, 0, 0, 0, 0, 0, 0, 0, 0, 0], [0, 0, 0, 0, 0, 0, 0, 0, 0, 0], [0, 0, 0, 0, 0, 0, 0, 0, 0, 0], [0, 0, 0, 0, 0, 0, 0, 0, 0, 0], [0, 0, 0, 0, 0, 0, 0, 0, 0, 0], [0, 0, 0, 0, 0, 0, 0, 0, 0, 0]]\n",
            "K:  21\n",
            "[0, 0, 0, 0, 0, 0, 0, 0, 0, 0]\n",
            "[0, 1, 0, 13, 0, 0, 22, 21, 20, 0]\n",
            "[0, 2, 0, 12, 0, 22, 21, 20, 19, 0]\n",
            "[0, 3, 0, 11, 0, 0, 0, 0, 18, 0]\n",
            "[0, 4, 0, 10, 11, 12, 13, 0, 17, 0]\n",
            "[0, 5, 0, 9, 10, 11, 12, 0, 16, 0]\n",
            "[0, 6, 7, 8, 9, 10, 11, 0, 15, 0]\n",
            "[0, 7, 0, 9, 10, 11, 12, 13, 14, 0]\n",
            "[0, 8, 0, 10, 11, 12, 13, 14, 15, 0]\n",
            "[0, 0, 0, 0, 0, 0, 0, 0, 0, 0]\n"
          ],
          "name": "stdout"
        }
      ]
    },
    {
      "cell_type": "code",
      "metadata": {
        "id": "jPP3_G6Lp7h8",
        "outputId": "79f462a5-254f-4ab6-fcc6-9594e7f38ff4"
      },
      "source": [
        "i, j = end\n",
        "k = m[i][j]\n",
        "print(k)\n",
        "the_path = [(i,j)]\n",
        "while k > 1:\n",
        "  if i > 0 and m[i - 1][j] == k-1:\n",
        "    i, j = i-1, j\n",
        "    the_path.append((i, j))\n",
        "    k-=1\n",
        "  elif j > 0 and m[i][j - 1] == k-1:\n",
        "    i, j = i, j-1\n",
        "    the_path.append((i, j))\n",
        "    k-=1\n",
        "  elif i < len(m) - 1 and m[i + 1][j] == k-1:\n",
        "    i, j = i+1, j\n",
        "    the_path.append((i, j))\n",
        "    k-=1\n",
        "  elif j < len(m[i]) - 1 and m[i][j + 1] == k-1:\n",
        "    i, j = i, j+1\n",
        "    the_path.append((i, j))\n",
        "    k -= 1\n",
        "the_path"
      ],
      "execution_count": null,
      "outputs": [
        {
          "output_type": "stream",
          "text": [
            "22\n"
          ],
          "name": "stdout"
        },
        {
          "output_type": "execute_result",
          "data": {
            "text/plain": [
              "[(2, 5),\n",
              " (2, 6),\n",
              " (2, 7),\n",
              " (2, 8),\n",
              " (3, 8),\n",
              " (4, 8),\n",
              " (5, 8),\n",
              " (6, 8),\n",
              " (7, 8),\n",
              " (7, 7),\n",
              " (7, 6),\n",
              " (6, 6),\n",
              " (6, 5),\n",
              " (6, 4),\n",
              " (6, 3),\n",
              " (6, 2),\n",
              " (6, 1),\n",
              " (5, 1),\n",
              " (4, 1),\n",
              " (3, 1),\n",
              " (2, 1),\n",
              " (1, 1)]"
            ]
          },
          "metadata": {
            "tags": []
          },
          "execution_count": 20
        }
      ]
    },
    {
      "cell_type": "code",
      "metadata": {
        "id": "9DSm_ZTsp7iE"
      },
      "source": [
        ""
      ],
      "execution_count": null,
      "outputs": []
    }
  ]
}