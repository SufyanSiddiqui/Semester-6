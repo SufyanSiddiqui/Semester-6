{
  "nbformat": 4,
  "nbformat_minor": 0,
  "metadata": {
    "kernelspec": {
      "display_name": "Python 3",
      "language": "python",
      "name": "python3"
    },
    "language_info": {
      "codemirror_mode": {
        "name": "ipython",
        "version": 3
      },
      "file_extension": ".py",
      "mimetype": "text/x-python",
      "name": "python",
      "nbconvert_exporter": "python",
      "pygments_lexer": "ipython3",
      "version": "3.8.5"
    },
    "colab": {
      "name": "Untitled.ipynb",
      "provenance": []
    }
  },
  "cells": [
    {
      "cell_type": "markdown",
      "metadata": {
        "id": "g9TnVi8sghVg"
      },
      "source": [
        "Y Estimated = α + β X\n",
        "β=Summation (Xi-X')(Yi-Y') / Summation (Xi - X')2   \n",
        "α = Y' - B * Y'"
      ]
    },
    {
      "cell_type": "code",
      "metadata": {
        "id": "QczDBoM-ghWR",
        "outputId": "02d08f1d-de6f-4c6e-c3c6-0ac948ef226e"
      },
      "source": [
        "import pandas as pd\n",
        "import numpy as np\n",
        "from matplotlib import pyplot as plt\n",
        "\n",
        "# Generate 'random' data\n",
        "np.random.seed(0)\n",
        "X = 2.5 * np.random.randn(100) + 1.5   # Array of 100 values with mean = 1.5, stddev = 2.5\n",
        "res = 0.5 * np.random.randn(100)       # Generate 100 residual terms\n",
        "y = 2 + 0.3 * X + res                  # Actual values of Y\n",
        "\n",
        "# Create pandas dataframe to store our X and y values\n",
        "df = pd.DataFrame(\n",
        "    {'X': X,\n",
        "     'y': y}\n",
        ")\n",
        "\n",
        "# Show the first five rows of our dataframe\n",
        "df.head()"
      ],
      "execution_count": null,
      "outputs": [
        {
          "output_type": "execute_result",
          "data": {
            "text/html": [
              "<div>\n",
              "<style scoped>\n",
              "    .dataframe tbody tr th:only-of-type {\n",
              "        vertical-align: middle;\n",
              "    }\n",
              "\n",
              "    .dataframe tbody tr th {\n",
              "        vertical-align: top;\n",
              "    }\n",
              "\n",
              "    .dataframe thead th {\n",
              "        text-align: right;\n",
              "    }\n",
              "</style>\n",
              "<table border=\"1\" class=\"dataframe\">\n",
              "  <thead>\n",
              "    <tr style=\"text-align: right;\">\n",
              "      <th></th>\n",
              "      <th>X</th>\n",
              "      <th>y</th>\n",
              "    </tr>\n",
              "  </thead>\n",
              "  <tbody>\n",
              "    <tr>\n",
              "      <th>0</th>\n",
              "      <td>5.910131</td>\n",
              "      <td>4.714615</td>\n",
              "    </tr>\n",
              "    <tr>\n",
              "      <th>1</th>\n",
              "      <td>2.500393</td>\n",
              "      <td>2.076238</td>\n",
              "    </tr>\n",
              "    <tr>\n",
              "      <th>2</th>\n",
              "      <td>3.946845</td>\n",
              "      <td>2.548811</td>\n",
              "    </tr>\n",
              "    <tr>\n",
              "      <th>3</th>\n",
              "      <td>7.102233</td>\n",
              "      <td>4.615368</td>\n",
              "    </tr>\n",
              "    <tr>\n",
              "      <th>4</th>\n",
              "      <td>6.168895</td>\n",
              "      <td>3.264107</td>\n",
              "    </tr>\n",
              "  </tbody>\n",
              "</table>\n",
              "</div>"
            ],
            "text/plain": [
              "          X         y\n",
              "0  5.910131  4.714615\n",
              "1  2.500393  2.076238\n",
              "2  3.946845  2.548811\n",
              "3  7.102233  4.615368\n",
              "4  6.168895  3.264107"
            ]
          },
          "metadata": {
            "tags": []
          },
          "execution_count": 1
        }
      ]
    },
    {
      "cell_type": "code",
      "metadata": {
        "id": "LSDiKdPUghXG",
        "outputId": "c292ebe7-09b9-453e-8bca-648015eecca0"
      },
      "source": [
        "# Calculate the mean of X and y\n",
        "xmean = np.mean(X)\n",
        "ymean = np.mean(y)\n",
        "\n",
        "# Calculate the terms needed for the numator and denominator of beta\n",
        "df['xycov'] = (df['X'] - xmean) * (df['y'] - ymean)\n",
        "df['xvar'] = (df['X'] - xmean)**2\n",
        "\n",
        "# Calculate beta and alpha\n",
        "beta = df['xycov'].sum() / df['xvar'].sum()\n",
        "alpha = ymean - (beta * xmean)\n",
        "print(f'alpha = {alpha}')\n",
        "print(f'beta = {beta}')"
      ],
      "execution_count": null,
      "outputs": [
        {
          "output_type": "stream",
          "text": [
            "alpha = 2.0031670124623426\n",
            "beta = 0.3229396867092763\n"
          ],
          "name": "stdout"
        }
      ]
    },
    {
      "cell_type": "code",
      "metadata": {
        "id": "Mufl5YcighXL",
        "outputId": "9c8af51b-1c72-492f-f8df-b58dae4dbc51"
      },
      "source": [
        "Our model can be written as Yₑ = 2.003 + 0.323 X"
      ],
      "execution_count": null,
      "outputs": [
        {
          "output_type": "error",
          "ename": "SyntaxError",
          "evalue": "invalid syntax (<ipython-input-3-63254a789ac6>, line 1)",
          "traceback": [
            "\u001b[1;36m  File \u001b[1;32m\"<ipython-input-3-63254a789ac6>\"\u001b[1;36m, line \u001b[1;32m1\u001b[0m\n\u001b[1;33m    Our model can be written as Yₑ = 2.003 + 0.323 X\u001b[0m\n\u001b[1;37m        ^\u001b[0m\n\u001b[1;31mSyntaxError\u001b[0m\u001b[1;31m:\u001b[0m invalid syntax\n"
          ]
        }
      ]
    },
    {
      "cell_type": "code",
      "metadata": {
        "id": "szWiHvaQghXN"
      },
      "source": [
        "ypred = alpha + beta * X\n",
        "ypred"
      ],
      "execution_count": null,
      "outputs": []
    },
    {
      "cell_type": "code",
      "metadata": {
        "id": "hvn2Hk1fghXO"
      },
      "source": [
        "advert = pd.read_csv('advertising.csv')\n",
        "advert.head()"
      ],
      "execution_count": null,
      "outputs": []
    },
    {
      "cell_type": "code",
      "metadata": {
        "id": "AJ5RqFt3ghXR"
      },
      "source": [
        "from sklearn.linear_model import LinearRegression\n",
        "\n",
        "# Build linear regression model using TV and Radio as predictors\n",
        "# Split data into predictors X and output Y\n",
        "predictors = ['TV', 'Radio']\n",
        "X = advert[predictors]\n",
        "y = advert['Sales']\n",
        "\n",
        "# Initialise and fit model\n",
        "lm = LinearRegression()\n",
        "model = lm.fit(X, y)"
      ],
      "execution_count": null,
      "outputs": []
    },
    {
      "cell_type": "markdown",
      "metadata": {
        "id": "6xCu8xKvghXS"
      },
      "source": [
        "We will be predicting Sales using the variables TV and Radio i.e. our model can be written as:\n",
        "\n",
        "Sales = α + β₁*TV + β₂*Radio.\n",
        "\n",
        "First, we initialise our linear regression model, then fit the model to our predictors and output variables:"
      ]
    },
    {
      "cell_type": "code",
      "metadata": {
        "id": "KYxCJnvmghXT"
      },
      "source": [
        "print(f'alpha = {model.intercept_}')\n",
        "print(f'betas = {model.coef_}')"
      ],
      "execution_count": null,
      "outputs": []
    },
    {
      "cell_type": "code",
      "metadata": {
        "id": "teywnj9XghXU"
      },
      "source": [
        "model.predict(X)"
      ],
      "execution_count": null,
      "outputs": []
    },
    {
      "cell_type": "code",
      "metadata": {
        "id": "19ayFVr6ghXW",
        "outputId": "fd0cf310-5856-4cd6-a73c-9f246803b57a"
      },
      "source": [
        "new_X = [[230, 37]]\n",
        "print(model.predict(new_X))"
      ],
      "execution_count": null,
      "outputs": [
        {
          "output_type": "error",
          "ename": "NameError",
          "evalue": "name 'model' is not defined",
          "traceback": [
            "\u001b[1;31m---------------------------------------------------------------------------\u001b[0m",
            "\u001b[1;31mNameError\u001b[0m                                 Traceback (most recent call last)",
            "\u001b[1;32m<ipython-input-4-f194a4346de7>\u001b[0m in \u001b[0;36m<module>\u001b[1;34m\u001b[0m\n\u001b[0;32m      1\u001b[0m \u001b[0mnew_X\u001b[0m \u001b[1;33m=\u001b[0m \u001b[1;33m[\u001b[0m\u001b[1;33m[\u001b[0m\u001b[1;36m230\u001b[0m\u001b[1;33m,\u001b[0m \u001b[1;36m37\u001b[0m\u001b[1;33m]\u001b[0m\u001b[1;33m]\u001b[0m\u001b[1;33m\u001b[0m\u001b[1;33m\u001b[0m\u001b[0m\n\u001b[1;32m----> 2\u001b[1;33m \u001b[0mprint\u001b[0m\u001b[1;33m(\u001b[0m\u001b[0mmodel\u001b[0m\u001b[1;33m.\u001b[0m\u001b[0mpredict\u001b[0m\u001b[1;33m(\u001b[0m\u001b[0mnew_X\u001b[0m\u001b[1;33m)\u001b[0m\u001b[1;33m)\u001b[0m\u001b[1;33m\u001b[0m\u001b[1;33m\u001b[0m\u001b[0m\n\u001b[0m",
            "\u001b[1;31mNameError\u001b[0m: name 'model' is not defined"
          ]
        }
      ]
    },
    {
      "cell_type": "code",
      "metadata": {
        "id": "YnFmbgpaghXZ"
      },
      "source": [
        "# Assigning features and label variables\n",
        "weather=['Sunny','Sunny','Overcast','Rainy','Rainy','Rainy','Overcast','Sunny','Sunny',\n",
        "'Rainy','Sunny','Overcast','Overcast','Rainy']\n",
        "temp=['Hot','Hot','Hot','Mild','Cool','Cool','Cool','Mild','Cool','Mild','Mild','Mild','Hot','Mild']\n",
        "\n",
        "play=['No','No','Yes','Yes','Yes','No','Yes','No','Yes','Yes','Yes','Yes','Yes','No']"
      ],
      "execution_count": null,
      "outputs": []
    },
    {
      "cell_type": "code",
      "metadata": {
        "id": "Y4-lY-V6ghXa"
      },
      "source": [
        "# Import LabelEncoder\n",
        "from sklearn import preprocessing\n",
        "#creating labelEncoder\n",
        "le = preprocessing.LabelEncoder()\n",
        "# Converting string labels into numbers.\n",
        "weather_encoded=le.fit_transform(weather)\n",
        "print (wheather_encoded)"
      ],
      "execution_count": null,
      "outputs": []
    },
    {
      "cell_type": "code",
      "metadata": {
        "id": "spWL37-9ghXc"
      },
      "source": [
        "# Converting string labels into numbers\n",
        "temp_encoded=le.fit_transform(temp)\n",
        "label=le.fit_transform(play)\n",
        "print (\"Temp:\",temp_encoded)\n",
        "print (\"Play:\",label)"
      ],
      "execution_count": null,
      "outputs": []
    },
    {
      "cell_type": "code",
      "metadata": {
        "id": "j0j5YgcaghXd"
      },
      "source": [
        "#Combinig weather and temp into single listof tuples\n",
        "features=zip(weather_encoded,temp_encoded)\n",
        "print(features)"
      ],
      "execution_count": null,
      "outputs": []
    },
    {
      "cell_type": "code",
      "metadata": {
        "id": "XMU5kspIghXf"
      },
      "source": [
        "#Import Gaussian Naive Bayes model\n",
        "from sklearn.naive_bayes import GaussianNB\n",
        "\n",
        "#Create a Gaussian Classifier\n",
        "model = GaussianNB()\n",
        "\n",
        "# Train the model using the training sets\n",
        "model.fit(features,label)\n",
        "\n",
        "#Predict Output\n",
        "predicted= model.predict([[0,2]]) # 0:Overcast, 2:Mild\n",
        "print (\"Predicted Value:\", predicted)"
      ],
      "execution_count": null,
      "outputs": []
    },
    {
      "cell_type": "code",
      "metadata": {
        "id": "SfjzcmmughXh"
      },
      "source": [
        "# importing required libraries\n",
        "import pandas as pd\n",
        "from sklearn.naive_bayes import GaussianNB\n",
        "from sklearn.metrics import accuracy_score\n",
        "\n",
        "# read the train and test dataset\n",
        "train_data = pd.read_csv('train-data.csv')\n",
        "test_data = pd.read_csv('test-data.csv')\n",
        "\n",
        "# shape of the dataset\n",
        "print('Shape of training data :',train_data.shape)\n",
        "print('Shape of testing data :',test_data.shape)\n",
        "\n",
        "# Now, we need to predict the missing target variable in the test data\n",
        "# target variable - Survived\n",
        "\n",
        "# seperate the independent and target variable on training data\n",
        "train_x = train_data.drop(columns=['Survived'],axis=1)\n",
        "train_y = train_data['Survived']\n",
        "\n",
        "# seperate the independent and target variable on testing data\n",
        "test_x = test_data.drop(columns=['Survived'],axis=1)\n",
        "test_y = test_data['Survived']\n",
        "\n",
        "'''\n",
        "Create the object of the Naive Bayes model\n",
        "You can also add other parameters and test your code here\n",
        "Some parameters are : var_smoothing\n",
        "Documentation of sklearn GaussianNB: \n",
        "\n",
        "https://scikit-learn.org/stable/modules/generated/sklearn.naive_bayes.GaussianNB.html\n",
        "\n",
        " '''\n",
        "model = GaussianNB()\n",
        "\n",
        "# fit the model with the training data\n",
        "model.fit(train_x,train_y)\n",
        "\n",
        "# predict the target on the train dataset\n",
        "predict_train = model.predict(train_x)\n",
        "print('Target on train data',predict_train) \n",
        "\n",
        "# Accuray Score on train dataset\n",
        "accuracy_train = accuracy_score(train_y,predict_train)\n",
        "print('accuracy_score on train dataset : ', accuracy_train)\n",
        "\n",
        "# predict the target on the test dataset\n",
        "predict_test = model.predict(test_x)\n",
        "print('Target on test data',predict_test) \n",
        "\n",
        "# Accuracy Score on test dataset\n",
        "accuracy_test = accuracy_score(test_y,predict_test)\n",
        "print('accuracy_score on test dataset : ', accuracy_test)"
      ],
      "execution_count": null,
      "outputs": []
    },
    {
      "cell_type": "code",
      "metadata": {
        "id": "ML6png8JghXk"
      },
      "source": [
        ""
      ],
      "execution_count": null,
      "outputs": []
    }
  ]
}