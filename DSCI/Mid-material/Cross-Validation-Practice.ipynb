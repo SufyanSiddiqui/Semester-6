{
 "metadata": {
  "language_info": {
   "codemirror_mode": {
    "name": "ipython",
    "version": 3
   },
   "file_extension": ".py",
   "mimetype": "text/x-python",
   "name": "python",
   "nbconvert_exporter": "python",
   "pygments_lexer": "ipython3",
   "version": "3.8.5-final"
  },
  "orig_nbformat": 2,
  "kernelspec": {
   "name": "python3",
   "display_name": "Python 3.8.5 64-bit (conda)",
   "metadata": {
    "interpreter": {
     "hash": "6d46af94c2bbce495f1e668725902fa517c90b1782bcfe2fce0dd9868df553d3"
    }
   }
  }
 },
 "nbformat": 4,
 "nbformat_minor": 2,
 "cells": [
  {
   "cell_type": "code",
   "execution_count": 51,
   "metadata": {},
   "outputs": [],
   "source": [
    "import pandas as pd\n",
    "import numpy as np \n",
    "import sklearn.linear_model as lm\n",
    "from matplotlib import pyplot as plt\n",
    "from sklearn.metrics import mean_squared_error as mse\n",
    "from sklearn.preprocessing import PolynomialFeatures\n",
    "from sklearn.model_selection import LeaveOneOut\n",
    "from sklearn.model_selection import KFold\n",
    "from sklearn.model_selection import cross_val_score\n",
    "#from sklearn.metrics import accuracy\n",
    "#from sklearn.metrics import report"
   ]
  },
  {
   "cell_type": "code",
   "execution_count": 52,
   "metadata": {},
   "outputs": [
    {
     "output_type": "execute_result",
     "data": {
      "text/plain": [
       "    mpg  cylinders  displacement  horsepower  weight  acceleration  \\\n",
       "0  18.0          8         307.0       130.0    3504          12.0   \n",
       "1  15.0          8         350.0       165.0    3693          11.5   \n",
       "2  18.0          8         318.0       150.0    3436          11.0   \n",
       "3  16.0          8         304.0       150.0    3433          12.0   \n",
       "4  17.0          8         302.0       140.0    3449          10.5   \n",
       "\n",
       "   model year  origin                   car name  \n",
       "0          70       1  chevrolet chevelle malibu  \n",
       "1          70       1          buick skylark 320  \n",
       "2          70       1         plymouth satellite  \n",
       "3          70       1              amc rebel sst  \n",
       "4          70       1                ford torino  "
      ],
      "text/html": "<div>\n<style scoped>\n    .dataframe tbody tr th:only-of-type {\n        vertical-align: middle;\n    }\n\n    .dataframe tbody tr th {\n        vertical-align: top;\n    }\n\n    .dataframe thead th {\n        text-align: right;\n    }\n</style>\n<table border=\"1\" class=\"dataframe\">\n  <thead>\n    <tr style=\"text-align: right;\">\n      <th></th>\n      <th>mpg</th>\n      <th>cylinders</th>\n      <th>displacement</th>\n      <th>horsepower</th>\n      <th>weight</th>\n      <th>acceleration</th>\n      <th>model year</th>\n      <th>origin</th>\n      <th>car name</th>\n    </tr>\n  </thead>\n  <tbody>\n    <tr>\n      <th>0</th>\n      <td>18.0</td>\n      <td>8</td>\n      <td>307.0</td>\n      <td>130.0</td>\n      <td>3504</td>\n      <td>12.0</td>\n      <td>70</td>\n      <td>1</td>\n      <td>chevrolet chevelle malibu</td>\n    </tr>\n    <tr>\n      <th>1</th>\n      <td>15.0</td>\n      <td>8</td>\n      <td>350.0</td>\n      <td>165.0</td>\n      <td>3693</td>\n      <td>11.5</td>\n      <td>70</td>\n      <td>1</td>\n      <td>buick skylark 320</td>\n    </tr>\n    <tr>\n      <th>2</th>\n      <td>18.0</td>\n      <td>8</td>\n      <td>318.0</td>\n      <td>150.0</td>\n      <td>3436</td>\n      <td>11.0</td>\n      <td>70</td>\n      <td>1</td>\n      <td>plymouth satellite</td>\n    </tr>\n    <tr>\n      <th>3</th>\n      <td>16.0</td>\n      <td>8</td>\n      <td>304.0</td>\n      <td>150.0</td>\n      <td>3433</td>\n      <td>12.0</td>\n      <td>70</td>\n      <td>1</td>\n      <td>amc rebel sst</td>\n    </tr>\n    <tr>\n      <th>4</th>\n      <td>17.0</td>\n      <td>8</td>\n      <td>302.0</td>\n      <td>140.0</td>\n      <td>3449</td>\n      <td>10.5</td>\n      <td>70</td>\n      <td>1</td>\n      <td>ford torino</td>\n    </tr>\n  </tbody>\n</table>\n</div>"
     },
     "metadata": {},
     "execution_count": 52
    }
   ],
   "source": [
    "df = pd.read_csv('auto-mpg.csv',na_values='?').dropna()\n",
    "df.head()"
   ]
  },
  {
   "cell_type": "code",
   "execution_count": 53,
   "metadata": {},
   "outputs": [
    {
     "output_type": "stream",
     "name": "stdout",
     "text": [
      "      mpg  cylinders  displacement  horsepower  weight  acceleration  \\\n82   23.0          4         120.0        97.0    2506          14.5   \n167  29.0          4          97.0        75.0    2171          16.0   \n356  32.4          4         108.0        75.0    2350          16.8   \n120  19.0          4         121.0       112.0    2868          15.5   \n385  38.0          4          91.0        67.0    1995          16.2   \n\n     model year  origin                     car name  \n82           72       3  toyouta corona mark ii (sw)  \n167          75       3               toyota corolla  \n356          81       3               toyota corolla  \n120          73       2                  volvo 144ea  \n385          82       3                datsun 310 gx  \n[[ 97.]\n [ 75.]\n [ 75.]\n [112.]\n [ 67.]\n [ 83.]\n [ 69.]\n [150.]\n [ 92.]\n [ 72.]\n [115.]\n [ 76.]\n [130.]\n [ 70.]\n [ 84.]\n [140.]\n [ 84.]\n [ 48.]\n [220.]\n [100.]\n [ 75.]\n [110.]\n [150.]\n [170.]\n [198.]\n [150.]\n [ 68.]\n [100.]\n [110.]\n [ 84.]\n [145.]\n [ 88.]\n [155.]\n [112.]\n [105.]\n [140.]\n [ 95.]\n [105.]\n [ 67.]\n [ 88.]\n [190.]\n [175.]\n [122.]\n [100.]\n [100.]\n [110.]\n [150.]\n [ 68.]\n [100.]\n [215.]\n [150.]\n [ 95.]\n [ 90.]\n [ 84.]\n [ 62.]\n [ 97.]\n [115.]\n [ 85.]\n [ 90.]\n [ 60.]\n [ 85.]\n [ 86.]\n [ 65.]\n [110.]\n [ 90.]\n [ 90.]\n [ 88.]\n [160.]\n [ 71.]\n [180.]\n [ 92.]\n [125.]\n [150.]\n [ 78.]\n [113.]\n [ 80.]\n [225.]\n [150.]\n [165.]\n [ 84.]\n [110.]\n [ 83.]\n [ 65.]\n [ 74.]\n [175.]\n [110.]\n [ 67.]\n [ 80.]\n [ 67.]\n [ 81.]\n [ 80.]\n [ 85.]\n [130.]\n [210.]\n [198.]\n [115.]\n [140.]\n [115.]\n [ 85.]\n [155.]\n [ 88.]\n [ 72.]\n [100.]\n [ 75.]\n [ 75.]\n [ 68.]\n [ 88.]\n [ 52.]\n [153.]\n [105.]\n [ 65.]\n [ 76.]\n [ 68.]\n [ 90.]\n [150.]\n [ 90.]\n [110.]\n [158.]\n [ 88.]\n [ 82.]\n [ 52.]\n [ 88.]\n [125.]\n [ 65.]\n [150.]\n [ 54.]\n [ 80.]\n [152.]\n [ 97.]\n [ 65.]\n [ 74.]\n [ 90.]\n [150.]\n [100.]\n [ 95.]\n [149.]\n [ 95.]\n [ 97.]\n [180.]\n [150.]\n [ 85.]\n [ 76.]\n [107.]\n [190.]\n [ 95.]\n [ 97.]\n [ 70.]\n [130.]\n [180.]\n [ 53.]\n [ 71.]\n [ 97.]\n [175.]\n [ 95.]\n [105.]\n [ 75.]\n [ 63.]\n [ 75.]\n [170.]\n [180.]\n [110.]\n [108.]\n [150.]\n [ 90.]\n [138.]\n [103.]\n [ 97.]\n [ 67.]\n [ 95.]\n [100.]]\n"
     ]
    }
   ],
   "source": [
    "train_df = df.sample(170,random_state=1)\n",
    "train_df.head()\n",
    "test_df = df[~df.isin(train_df)].dropna(how='all')\n",
    "print(train_df.head())\n",
    "#the x parts of data will be reshaped (-1,1) due to the requirement of linear regression\n",
    "#y parts do not really need to be shaped \n",
    "x_train =  train_df['horsepower'].values.reshape(-1,1)\n",
    "y_train = train_df['mpg']\n",
    "x_test = test_df['horsepower'].values.reshape(-1,1)\n",
    "y_test = test_df['mpg']\n",
    "print(x_train)"
   ]
  },
  {
   "cell_type": "code",
   "execution_count": 54,
   "metadata": {},
   "outputs": [],
   "source": [
    "lin_reg = lm.LinearRegression()\n",
    "model = lin_reg.fit(x_train,y_train)"
   ]
  },
  {
   "cell_type": "code",
   "execution_count": 55,
   "metadata": {},
   "outputs": [
    {
     "output_type": "stream",
     "name": "stdout",
     "text": [
      "Mean Squared Error  24.331941916661272\n"
     ]
    }
   ],
   "source": [
    "predictions = model.predict(x_test)\n",
    "error = mse(y_test,predictions)\n",
    "print(\"Mean Squared Error \",error)"
   ]
  },
  {
   "cell_type": "code",
   "execution_count": 56,
   "metadata": {},
   "outputs": [
    {
     "output_type": "stream",
     "name": "stdout",
     "text": [
      "Quardatic\nMean Squared Error  21.053740590984457\n"
     ]
    }
   ],
   "source": [
    "#Fitting the data to a quardatic equation\n",
    "#create constructor of polynomial\n",
    "poly = PolynomialFeatures(degree=2)\n",
    "x_train2 = poly.fit_transform(x_train)\n",
    "x_test2 = poly.fit_transform(x_test)\n",
    "\n",
    "model = lin_reg.fit(x_train2,y_train)\n",
    "pred2= model.predict(x_test2)\n",
    "mse2 = mse(y_test,pred2)\n",
    "print(\"Quardatic\")\n",
    "print(\"Mean Squared Error \", mse2)\n"
   ]
  },
  {
   "cell_type": "code",
   "execution_count": 57,
   "metadata": {},
   "outputs": [
    {
     "output_type": "stream",
     "name": "stdout",
     "text": [
      "Cubic\nMean Squared Error  21.22820771535413\n"
     ]
    }
   ],
   "source": [
    "#Fitting the data to a cubic equation\n",
    "#create constructor of polynomial\n",
    "poly = PolynomialFeatures(degree=3)\n",
    "x_train3 = poly.fit_transform(x_train)\n",
    "x_test3 = poly.fit_transform(x_test)\n",
    "\n",
    "model = lin_reg.fit(x_train3,y_train)\n",
    "pred3= model.predict(x_test3)\n",
    "mse3 = mse(y_test,pred3)\n",
    "print(\"Cubic\")\n",
    "print(\"Mean Squared Error \", mse3)\n",
    "\n"
   ]
  },
  {
   "cell_type": "code",
   "execution_count": 58,
   "metadata": {},
   "outputs": [
    {
     "output_type": "stream",
     "name": "stdout",
     "text": [
      "Folds:  150\nMean Squared Error:  24.37718392581454\n"
     ]
    }
   ],
   "source": [
    "#KFOLD\n",
    "model = lin_reg.fit(x_train,y_train)\n",
    "crossvalid = KFold(n_splits=150, random_state=None, shuffle=True)\n",
    "score = cross_val_score(model,x_train,y_train,scoring= 'neg_mean_squared_error',cv=crossvalid)\n",
    "print(\"Folds: \",str(len(score)))\n",
    "print(\"Mean Squared Error: \",str(np.mean(np.abs(score))))"
   ]
  },
  {
   "cell_type": "code",
   "execution_count": 60,
   "metadata": {},
   "outputs": [
    {
     "output_type": "stream",
     "name": "stdout",
     "text": [
      "Folds:  170\nMean Squared Error:  24.414813500554192\n"
     ]
    }
   ],
   "source": [
    "#LeaveOneOut\n",
    "loo = LeaveOneOut()\n",
    "it  = loo.get_n_splits(x_train)\n",
    "scoress = cross_val_score(model,x_train,y_train,scoring= 'neg_mean_squared_error',cv=loo)\n",
    "print(\"Folds: \",str(len(scoress)))\n",
    "print(\"Mean Squared Error: \",str(np.mean(np.abs(scoress))))"
   ]
  }
 ]
}