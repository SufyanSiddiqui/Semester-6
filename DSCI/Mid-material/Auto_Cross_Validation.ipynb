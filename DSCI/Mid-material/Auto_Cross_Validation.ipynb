{
  "nbformat": 4,
  "nbformat_minor": 0,
  "metadata": {
    "kernelspec": {
      "name": "python3",
      "display_name": "Python 3.8.5 64-bit (conda)",
      "metadata": {
        "interpreter": {
          "hash": "6d46af94c2bbce495f1e668725902fa517c90b1782bcfe2fce0dd9868df553d3"
        }
      }
    },
    "language_info": {
      "codemirror_mode": {
        "name": "ipython",
        "version": 3
      },
      "file_extension": ".py",
      "mimetype": "text/x-python",
      "name": "python",
      "nbconvert_exporter": "python",
      "pygments_lexer": "ipython3",
      "version": "3.8.5-final"
    },
    "colab": {
      "name": "Auto Cross Validation.ipynb",
      "provenance": []
    },
    "metadata": {
      "interpreter": {
        "hash": "084b600058337c1ed128ca8083189dc1e4acdaba21b28d93c78c8c5801a2baae"
      }
    }
  },
  "cells": [
    {
      "cell_type": "code",
      "metadata": {
        "id": "QWikesllgixi"
      },
      "source": [
        "import pandas as pd\n",
        "import numpy as np\n",
        "import sklearn.linear_model as skl_lm\n",
        "import matplotlib.pyplot as plt\n",
        "from sklearn.metrics import mean_squared_error as mse"
      ],
      "execution_count": 1,
      "outputs": []
    },
    {
      "cell_type": "code",
      "metadata": {
        "id": "QqXCMILugiy0",
        "outputId": "07ff125a-31b0-4d60-e1ef-5ccf089e0854"
      },
      "source": [
        "df1 = pd.read_csv('auto-mpg.csv', na_values='?').dropna()\n",
        "df1.info()\n",
        "df1.head()"
      ],
      "execution_count": 32,
      "outputs": [
        {
          "output_type": "stream",
          "name": "stdout",
          "text": [
            "<class 'pandas.core.frame.DataFrame'>\nInt64Index: 392 entries, 0 to 397\nData columns (total 9 columns):\n #   Column        Non-Null Count  Dtype  \n---  ------        --------------  -----  \n 0   mpg           392 non-null    float64\n 1   cylinders     392 non-null    int64  \n 2   displacement  392 non-null    float64\n 3   horsepower    392 non-null    float64\n 4   weight        392 non-null    int64  \n 5   acceleration  392 non-null    float64\n 6   model year    392 non-null    int64  \n 7   origin        392 non-null    int64  \n 8   car name      392 non-null    object \ndtypes: float64(4), int64(4), object(1)\nmemory usage: 30.6+ KB\n"
          ]
        },
        {
          "output_type": "execute_result",
          "data": {
            "text/plain": [
              "    mpg  cylinders  displacement  horsepower  weight  acceleration  \\\n",
              "0  18.0          8         307.0       130.0    3504          12.0   \n",
              "1  15.0          8         350.0       165.0    3693          11.5   \n",
              "2  18.0          8         318.0       150.0    3436          11.0   \n",
              "3  16.0          8         304.0       150.0    3433          12.0   \n",
              "4  17.0          8         302.0       140.0    3449          10.5   \n",
              "\n",
              "   model year  origin                   car name  \n",
              "0          70       1  chevrolet chevelle malibu  \n",
              "1          70       1          buick skylark 320  \n",
              "2          70       1         plymouth satellite  \n",
              "3          70       1              amc rebel sst  \n",
              "4          70       1                ford torino  "
            ],
            "text/html": "<div>\n<style scoped>\n    .dataframe tbody tr th:only-of-type {\n        vertical-align: middle;\n    }\n\n    .dataframe tbody tr th {\n        vertical-align: top;\n    }\n\n    .dataframe thead th {\n        text-align: right;\n    }\n</style>\n<table border=\"1\" class=\"dataframe\">\n  <thead>\n    <tr style=\"text-align: right;\">\n      <th></th>\n      <th>mpg</th>\n      <th>cylinders</th>\n      <th>displacement</th>\n      <th>horsepower</th>\n      <th>weight</th>\n      <th>acceleration</th>\n      <th>model year</th>\n      <th>origin</th>\n      <th>car name</th>\n    </tr>\n  </thead>\n  <tbody>\n    <tr>\n      <th>0</th>\n      <td>18.0</td>\n      <td>8</td>\n      <td>307.0</td>\n      <td>130.0</td>\n      <td>3504</td>\n      <td>12.0</td>\n      <td>70</td>\n      <td>1</td>\n      <td>chevrolet chevelle malibu</td>\n    </tr>\n    <tr>\n      <th>1</th>\n      <td>15.0</td>\n      <td>8</td>\n      <td>350.0</td>\n      <td>165.0</td>\n      <td>3693</td>\n      <td>11.5</td>\n      <td>70</td>\n      <td>1</td>\n      <td>buick skylark 320</td>\n    </tr>\n    <tr>\n      <th>2</th>\n      <td>18.0</td>\n      <td>8</td>\n      <td>318.0</td>\n      <td>150.0</td>\n      <td>3436</td>\n      <td>11.0</td>\n      <td>70</td>\n      <td>1</td>\n      <td>plymouth satellite</td>\n    </tr>\n    <tr>\n      <th>3</th>\n      <td>16.0</td>\n      <td>8</td>\n      <td>304.0</td>\n      <td>150.0</td>\n      <td>3433</td>\n      <td>12.0</td>\n      <td>70</td>\n      <td>1</td>\n      <td>amc rebel sst</td>\n    </tr>\n    <tr>\n      <th>4</th>\n      <td>17.0</td>\n      <td>8</td>\n      <td>302.0</td>\n      <td>140.0</td>\n      <td>3449</td>\n      <td>10.5</td>\n      <td>70</td>\n      <td>1</td>\n      <td>ford torino</td>\n    </tr>\n  </tbody>\n</table>\n</div>"
          },
          "metadata": {},
          "execution_count": 32
        }
      ]
    },
    {
      "cell_type": "code",
      "metadata": {
        "id": "FhYkVnWAgiy6"
      },
      "source": [
        "\n",
        "\n",
        "train_df = df1.sample(196, random_state = 1)\n",
        "print(train_df)\n",
        "test_df = df1[df1.isin(train_df)].dropna(how = 'all')\n",
        "print(test_df)\n",
        "\n",
        "X_train = train_df['horsepower'].values.reshape(-1,1)\n",
        "print(X_train)\n",
        "y_train = train_df['mpg']\n",
        "X_test = test_df['horsepower'].values.reshape(-1,1)\n",
        "print(X_test)\n",
        "y_test = test_df['mpg']\n",
        "print(\"Y_test\",y_test)\n",
        "\n"
      ],
      "execution_count": 25,
      "outputs": [
        {
          "output_type": "stream",
          "name": "stdout",
          "text": [
            "      mpg  cylinders  displacement  horsepower  weight  acceleration  \\\n82   23.0          4         120.0        97.0    2506          14.5   \n167  29.0          4          97.0        75.0    2171          16.0   \n356  32.4          4         108.0        75.0    2350          16.8   \n120  19.0          4         121.0       112.0    2868          15.5   \n385  38.0          4          91.0        67.0    1995          16.2   \n..    ...        ...           ...         ...     ...           ...   \n100  18.0          6         250.0        88.0    3021          16.5   \n346  32.3          4          97.0        67.0    2065          17.8   \n325  44.3          4          90.0        48.0    2085          21.7   \n316  19.1          6         225.0        90.0    3381          18.7   \n28    9.0          8         304.0       193.0    4732          18.5   \n\n     model year  origin                     car name  \n82           72       3  toyouta corona mark ii (sw)  \n167          75       3               toyota corolla  \n356          81       3               toyota corolla  \n120          73       2                  volvo 144ea  \n385          82       3                datsun 310 gx  \n..          ...     ...                          ...  \n100          73       1                ford maverick  \n346          81       3                       subaru  \n325          80       2         vw rabbit c (diesel)  \n316          80       1                  dodge aspen  \n28           70       1                     hi 1200d  \n\n[196 rows x 9 columns]\n      mpg  cylinders  displacement  horsepower  weight  acceleration  \\\n0    18.0        8.0         307.0       130.0  3504.0          12.0   \n4    17.0        8.0         302.0       140.0  3449.0          10.5   \n5    15.0        8.0         429.0       198.0  4341.0          10.0   \n6    14.0        8.0         454.0       220.0  4354.0           9.0   \n8    14.0        8.0         455.0       225.0  4425.0          10.0   \n..    ...        ...           ...         ...     ...           ...   \n392  27.0        4.0         151.0        90.0  2950.0          17.3   \n394  44.0        4.0          97.0        52.0  2130.0          24.6   \n395  32.0        4.0         135.0        84.0  2295.0          11.6   \n396  28.0        4.0         120.0        79.0  2625.0          18.6   \n397  31.0        4.0         119.0        82.0  2720.0          19.4   \n\n     model year  origin                   car name  \n0          70.0     1.0  chevrolet chevelle malibu  \n4          70.0     1.0                ford torino  \n5          70.0     1.0           ford galaxie 500  \n6          70.0     1.0           chevrolet impala  \n8          70.0     1.0           pontiac catalina  \n..          ...     ...                        ...  \n392        82.0     1.0           chevrolet camaro  \n394        82.0     2.0                  vw pickup  \n395        82.0     1.0              dodge rampage  \n396        82.0     1.0                ford ranger  \n397        82.0     1.0                 chevy s-10  \n\n[196 rows x 9 columns]\n[[ 97.]\n [ 75.]\n [ 75.]\n [112.]\n [ 67.]\n [ 83.]\n [ 69.]\n [150.]\n [ 92.]\n [ 72.]\n [115.]\n [ 76.]\n [130.]\n [ 70.]\n [ 84.]\n [140.]\n [ 84.]\n [ 48.]\n [220.]\n [100.]\n [ 75.]\n [110.]\n [150.]\n [170.]\n [198.]\n [150.]\n [ 68.]\n [100.]\n [110.]\n [ 84.]\n [145.]\n [ 88.]\n [155.]\n [112.]\n [105.]\n [140.]\n [ 95.]\n [105.]\n [ 67.]\n [ 88.]\n [190.]\n [175.]\n [122.]\n [100.]\n [100.]\n [110.]\n [150.]\n [ 68.]\n [100.]\n [215.]\n [150.]\n [ 95.]\n [ 90.]\n [ 84.]\n [ 62.]\n [ 97.]\n [115.]\n [ 85.]\n [ 90.]\n [ 60.]\n [ 85.]\n [ 86.]\n [ 65.]\n [110.]\n [ 90.]\n [ 90.]\n [ 88.]\n [160.]\n [ 71.]\n [180.]\n [ 92.]\n [125.]\n [150.]\n [ 78.]\n [113.]\n [ 80.]\n [225.]\n [150.]\n [165.]\n [ 84.]\n [110.]\n [ 83.]\n [ 65.]\n [ 74.]\n [175.]\n [110.]\n [ 67.]\n [ 80.]\n [ 67.]\n [ 81.]\n [ 80.]\n [ 85.]\n [130.]\n [210.]\n [198.]\n [115.]\n [140.]\n [115.]\n [ 85.]\n [155.]\n [ 88.]\n [ 72.]\n [100.]\n [ 75.]\n [ 75.]\n [ 68.]\n [ 88.]\n [ 52.]\n [153.]\n [105.]\n [ 65.]\n [ 76.]\n [ 68.]\n [ 90.]\n [150.]\n [ 90.]\n [110.]\n [158.]\n [ 88.]\n [ 82.]\n [ 52.]\n [ 88.]\n [125.]\n [ 65.]\n [150.]\n [ 54.]\n [ 80.]\n [152.]\n [ 97.]\n [ 65.]\n [ 74.]\n [ 90.]\n [150.]\n [100.]\n [ 95.]\n [149.]\n [ 95.]\n [ 97.]\n [180.]\n [150.]\n [ 85.]\n [ 76.]\n [107.]\n [190.]\n [ 95.]\n [ 97.]\n [ 70.]\n [130.]\n [180.]\n [ 53.]\n [ 71.]\n [ 97.]\n [175.]\n [ 95.]\n [105.]\n [ 75.]\n [ 63.]\n [ 75.]\n [170.]\n [180.]\n [110.]\n [108.]\n [150.]\n [ 90.]\n [138.]\n [103.]\n [ 97.]\n [ 67.]\n [ 95.]\n [100.]\n [ 90.]\n [ 89.]\n [150.]\n [ 92.]\n [170.]\n [ 46.]\n [140.]\n [110.]\n [ 75.]\n [110.]\n [100.]\n [100.]\n [ 78.]\n [ 72.]\n [ 58.]\n [ 96.]\n [ 86.]\n [ 70.]\n [175.]\n [225.]\n [ 79.]\n [ 88.]\n [ 67.]\n [ 48.]\n [ 90.]\n [193.]]\n[[130.]\n [140.]\n [198.]\n [220.]\n [225.]\n [190.]\n [160.]\n [150.]\n [225.]\n [ 95.]\n [ 97.]\n [ 85.]\n [ 88.]\n [ 46.]\n [113.]\n [210.]\n [193.]\n [ 88.]\n [100.]\n [175.]\n [153.]\n [180.]\n [170.]\n [110.]\n [ 76.]\n [ 54.]\n [ 90.]\n [165.]\n [175.]\n [150.]\n [155.]\n [ 97.]\n [140.]\n [ 69.]\n [ 86.]\n [ 92.]\n [ 97.]\n [ 80.]\n [175.]\n [150.]\n [150.]\n [198.]\n [150.]\n [158.]\n [150.]\n [215.]\n [175.]\n [100.]\n [ 88.]\n [ 95.]\n [150.]\n [180.]\n [100.]\n [ 88.]\n [ 72.]\n [ 90.]\n [ 85.]\n [107.]\n [ 75.]\n [112.]\n [150.]\n [122.]\n [180.]\n [ 95.]\n [100.]\n [ 67.]\n [100.]\n [110.]\n [150.]\n [150.]\n [ 83.]\n [ 75.]\n [ 75.]\n [ 97.]\n [ 95.]\n [170.]\n [110.]\n [105.]\n [110.]\n [ 95.]\n [110.]\n [110.]\n [ 75.]\n [100.]\n [ 96.]\n [ 97.]\n [ 97.]\n [ 70.]\n [ 90.]\n [ 95.]\n [ 53.]\n [ 86.]\n [140.]\n [150.]\n [152.]\n [100.]\n [ 81.]\n [ 90.]\n [100.]\n [ 71.]\n [ 72.]\n [ 88.]\n [108.]\n [150.]\n [ 68.]\n [ 70.]\n [130.]\n [110.]\n [105.]\n [100.]\n [180.]\n [170.]\n [190.]\n [149.]\n [ 88.]\n [ 75.]\n [ 89.]\n [ 83.]\n [ 78.]\n [ 52.]\n [ 60.]\n [110.]\n [140.]\n [105.]\n [ 95.]\n [ 85.]\n [110.]\n [145.]\n [ 75.]\n [ 97.]\n [103.]\n [125.]\n [115.]\n [ 68.]\n [115.]\n [130.]\n [138.]\n [155.]\n [125.]\n [150.]\n [ 71.]\n [ 65.]\n [ 80.]\n [ 80.]\n [ 90.]\n [ 65.]\n [ 90.]\n [115.]\n [115.]\n [ 90.]\n [ 76.]\n [ 65.]\n [ 90.]\n [ 90.]\n [ 78.]\n [ 92.]\n [ 48.]\n [ 48.]\n [ 67.]\n [ 67.]\n [ 62.]\n [100.]\n [ 88.]\n [ 72.]\n [ 84.]\n [ 84.]\n [ 58.]\n [ 67.]\n [ 65.]\n [ 68.]\n [ 65.]\n [ 74.]\n [ 75.]\n [ 80.]\n [ 76.]\n [110.]\n [105.]\n [ 88.]\n [ 85.]\n [ 84.]\n [ 92.]\n [ 74.]\n [ 68.]\n [ 63.]\n [ 70.]\n [ 75.]\n [ 67.]\n [ 67.]\n [ 85.]\n [112.]\n [ 84.]\n [ 90.]\n [ 52.]\n [ 84.]\n [ 79.]\n [ 82.]]\nY_test 0      18.0\n4      17.0\n5      15.0\n6      14.0\n8      14.0\n       ... \n392    27.0\n394    44.0\n395    32.0\n396    28.0\n397    31.0\nName: mpg, Length: 196, dtype: float64\n"
          ]
        }
      ]
    },
    {
      "cell_type": "code",
      "metadata": {
        "id": "i8IS0CdGgiy7"
      },
      "source": [
        "lm = skl_lm.LinearRegression()\n",
        "model = lm.fit(X_train, y_train)"
      ],
      "execution_count": 33,
      "outputs": []
    },
    {
      "cell_type": "code",
      "metadata": {
        "id": "ccekzTE0gizA",
        "outputId": "5f80b24f-92cf-4481-a2da-6d7ad1146987"
      },
      "source": [
        "pred = model.predict(X_test)\n",
        "\n",
        "from sklearn.metrics import mean_squared_error\n",
        "\n",
        "MSE = mean_squared_error(y_test, pred)\n",
        "    \n",
        "print(MSE)"
      ],
      "execution_count": 9,
      "outputs": [
        {
          "output_type": "stream",
          "name": "stdout",
          "text": [
            "23.361902892587224\n"
          ]
        }
      ]
    },
    {
      "cell_type": "code",
      "metadata": {
        "id": "a_xEtbGigizC",
        "outputId": "0be9a527-2c0e-44f8-b0fa-8081564f9c98"
      },
      "source": [
        "\n",
        "\n",
        "from sklearn.preprocessing import PolynomialFeatures\n",
        "\n",
        "# Quadratic\n",
        "poly = PolynomialFeatures(degree=2)\n",
        "X_train2 = poly.fit_transform(X_train)\n",
        "X_test2 = poly.fit_transform(X_test)\n",
        "\n",
        "model = lm.fit(X_train2, y_train)\n",
        "print(mean_squared_error(y_test, model.predict(X_test2)))\n",
        "\n",
        "# Cubic\n",
        "poly = PolynomialFeatures(degree=3)\n",
        "X_train3 = poly.fit_transform(X_train)\n",
        "X_test3 = poly.fit_transform(X_test)\n",
        "\n",
        "model = lm.fit(X_train3, y_train)\n",
        "print(mean_squared_error(y_test, model.predict(X_test3)))\n",
        "\n"
      ],
      "execution_count": 10,
      "outputs": [
        {
          "output_type": "stream",
          "name": "stdout",
          "text": [
            "20.252690858345748\n",
            "20.325609365972525\n"
          ]
        }
      ]
    },
    {
      "cell_type": "code",
      "metadata": {
        "id": "Fi7LXFJcgizD",
        "outputId": "2a995c98-3d18-4d79-c538-e653c22715fc"
      },
      "source": [
        "train_df = df1.sample(196, random_state = 2)\n",
        "test_df = df1[~df1.isin(train_df)].dropna(how = 'all')\n",
        "\n",
        "X_train = train_df['horsepower'].values.reshape(-1,1)\n",
        "y_train = train_df['mpg']\n",
        "X_test = test_df['horsepower'].values.reshape(-1,1)\n",
        "y_test = test_df['mpg']\n",
        "\n",
        "# Linear\n",
        "model = lm.fit(X_train, y_train)\n",
        "print(mean_squared_error(y_test, model.predict(X_test)))\n",
        "\n",
        "# Quadratic\n",
        "poly = PolynomialFeatures(degree=2)\n",
        "X_train2 = poly.fit_transform(X_train)\n",
        "X_test2 = poly.fit_transform(X_test)\n",
        "\n",
        "model = lm.fit(X_train2, y_train)\n",
        "print(mean_squared_error(y_test, model.predict(X_test2)))\n",
        "\n",
        "# Cubic\n",
        "poly = PolynomialFeatures(degree=3)\n",
        "X_train3 = poly.fit_transform(X_train)\n",
        "X_test3 = poly.fit_transform(X_test)\n",
        "\n",
        "model = lm.fit(X_train3, y_train)\n",
        "print(mean_squared_error(y_test, model.predict(X_test3)))"
      ],
      "execution_count": 11,
      "outputs": [
        {
          "output_type": "stream",
          "name": "stdout",
          "text": [
            "25.10853905288967\n19.722533470492426\n19.92136786007267\n"
          ]
        }
      ]
    },
    {
      "cell_type": "code",
      "metadata": {
        "id": "UFNx3wONgizF",
        "outputId": "b0302946-64d8-4fb9-db07-d758b41ceca3"
      },
      "source": [
        "\n",
        "from sklearn.model_selection import LeaveOneOut\n",
        "model = lm.fit(X_train, y_train)\n",
        "\n",
        "from sklearn.model_selection import cross_val_score\n",
        "loo = LeaveOneOut()\n",
        "X = df1['horsepower'].values.reshape(-1,1)\n",
        "y = df1['mpg'].values.reshape(-1,1)\n",
        "loo.get_n_splits(X)\n",
        "\n",
        "from sklearn.model_selection import KFold\n",
        "\n",
        "crossvalidation = KFold(n_splits=392, random_state=None, shuffle=False)\n",
        "\n",
        "scores = cross_val_score(model, X, y, scoring=\"neg_mean_squared_error\", cv=crossvalidation,n_jobs=1)\n",
        "\n",
        "print(\"Folds: \" + str(len(scores)) + \", MSE: \" + str(np.mean(np.abs(scores))) + \", STD: \" + str(np.std(scores)))\n",
        "\n"
      ],
      "execution_count": 12,
      "outputs": [
        {
          "output_type": "stream",
          "name": "stdout",
          "text": [
            "Folds: 392, MSE: 24.231513517929226, STD: 36.79731503640535\n"
          ]
        }
      ]
    },
    {
      "cell_type": "code",
      "metadata": {
        "id": "7qZgs-AegizH",
        "outputId": "e771aef1-940b-42f7-b637-ac48c703b3d6"
      },
      "source": [
        "for i in range(1,6):\n",
        "    poly = PolynomialFeatures(degree=i)\n",
        "    X_current = poly.fit_transform(X)\n",
        "    model = lm.fit(X_current, y)\n",
        "    scores = cross_val_score(model, X_current, y, scoring=\"neg_mean_squared_error\", cv=crossvalidation, n_jobs=1)\n",
        "    \n",
        "    print(\"Degree-\"+str(i)+\" polynomial MSE: \" + str(np.mean(np.abs(scores))) + \", STD: \" + str(np.std(scores)))"
      ],
      "execution_count": 13,
      "outputs": [
        {
          "output_type": "stream",
          "name": "stdout",
          "text": [
            "Degree-1 polynomial MSE: 24.231513517929226, STD: 36.797315036405344\n",
            "Degree-2 polynomial MSE: 19.24821312448974, STD: 34.998446151782325\n",
            "Degree-3 polynomial MSE: 19.334984064079364, STD: 35.76513567801197\n",
            "Degree-4 polynomial MSE: 19.424430309616614, STD: 35.68335275865512\n",
            "Degree-5 polynomial MSE: 19.033204805230227, STD: 35.31728657951347\n"
          ]
        }
      ]
    },
    {
      "cell_type": "code",
      "metadata": {
        "id": "1i0nDDBWgizJ",
        "outputId": "c7cc79fd-65f4-4e66-bc43-c7ee173b510a"
      },
      "source": [
        "crossvalidation = KFold(n_splits=10, random_state=None, shuffle=False)\n",
        "\n",
        "for i in range(1,11):\n",
        "    poly = PolynomialFeatures(degree=i)\n",
        "    X_current = poly.fit_transform(X)\n",
        "    model = lm.fit(X_current, y)\n",
        "    scores = cross_val_score(model, X_current, y, scoring=\"neg_mean_squared_error\", cv=crossvalidation,\n",
        " n_jobs=1)\n",
        "    \n",
        "    print(\"Degree-\"+str(i)+\" polynomial MSE: \" + str(np.mean(np.abs(scores))) + \", STD: \" + str(np.std(scores)))"
      ],
      "execution_count": 34,
      "outputs": [
        {
          "output_type": "stream",
          "name": "stdout",
          "text": [
            "Degree-1 polynomial MSE: 27.439933652339864, STD: 14.510250711281135\nDegree-2 polynomial MSE: 21.23584005580159, STD: 11.797327528897476\nDegree-3 polynomial MSE: 21.336606183362687, STD: 11.844339714566832\nDegree-4 polynomial MSE: 21.353886976174397, STD: 11.986332284638403\nDegree-5 polynomial MSE: 20.905575161245913, STD: 12.185466141325108\nDegree-6 polynomial MSE: 20.77489727803028, STD: 12.11614139905198\nDegree-7 polynomial MSE: 20.953249793657, STD: 12.060338824397087\nDegree-8 polynomial MSE: 21.07711948872788, STD: 12.044581795471505\nDegree-9 polynomial MSE: 21.036262751330106, STD: 11.948222522302709\nDegree-10 polynomial MSE: 20.985273798054493, STD: 11.807818281132603\n"
          ]
        }
      ]
    },
    {
      "cell_type": "code",
      "metadata": {
        "id": "UMKEp4x6giz3",
        "outputId": "0f577581-d2ec-47e3-8e77-317ec550e398"
      },
      "source": [
        "from numpy import array\n",
        "from sklearn.model_selection import KFold\n",
        "# data sample\n",
        "data = array([0.1, 0.2, 0.3, 0.4, 0.5, 0.6])\n",
        "# prepare cross validation\n",
        "kfold = KFold(3, True, 1)\n",
        "# enumerate splits\n",
        "for train, test in kfold.split(data):\n",
        "\tprint('train: %s, test: %s' % (data[train], data[test]))"
      ],
      "execution_count": 35,
      "outputs": [
        {
          "output_type": "stream",
          "name": "stdout",
          "text": [
            "train: [0.1 0.4 0.5 0.6], test: [0.2 0.3]\n",
            "train: [0.2 0.3 0.4 0.6], test: [0.1 0.5]\n",
            "train: [0.1 0.2 0.3 0.5], test: [0.4 0.6]\n",
            "C:\\Users\\amanu\\AppData\\Local\\Programs\\Python\\Python38\\lib\\site-packages\\sklearn\\utils\\validation.py:70: FutureWarning: Pass shuffle=True, random_state=1 as keyword args. From version 1.0 (renaming of 0.25) passing these as positional arguments will result in an error\n",
            "  warnings.warn(f\"Pass {args_msg} as keyword args. From version \"\n"
          ]
        }
      ]
    },
    {
      "cell_type": "code",
      "metadata": {
        "id": "spChh8sRgi0A",
        "outputId": "068dc036-3985-4bf9-e3e7-210840e9d0a5"
      },
      "source": [
        "import pandas as pd\n",
        "#read in the data using pandas\n",
        "df = pd.read_csv('diabetes_data.csv')#check data has been read in properly\n",
        "df.head()"
      ],
      "execution_count": 16,
      "outputs": [
        {
          "output_type": "error",
          "ename": "FileNotFoundError",
          "evalue": "[Errno 2] No such file or directory: 'diabetes_data.csv'",
          "traceback": [
            "\u001b[1;31m---------------------------------------------------------------------------\u001b[0m",
            "\u001b[1;31mFileNotFoundError\u001b[0m                         Traceback (most recent call last)",
            "\u001b[1;32m<ipython-input-16-b5f1f3d18490>\u001b[0m in \u001b[0;36m<module>\u001b[1;34m\u001b[0m\n\u001b[0;32m      1\u001b[0m \u001b[1;32mimport\u001b[0m \u001b[0mpandas\u001b[0m \u001b[1;32mas\u001b[0m \u001b[0mpd\u001b[0m\u001b[1;31m#read in the data using pandas\u001b[0m\u001b[1;33m\u001b[0m\u001b[1;33m\u001b[0m\u001b[0m\n\u001b[1;32m----> 2\u001b[1;33m \u001b[0mdf\u001b[0m \u001b[1;33m=\u001b[0m \u001b[0mpd\u001b[0m\u001b[1;33m.\u001b[0m\u001b[0mread_csv\u001b[0m\u001b[1;33m(\u001b[0m\u001b[1;34m'diabetes_data.csv'\u001b[0m\u001b[1;33m)\u001b[0m\u001b[1;31m#check data has been read in properly\u001b[0m\u001b[1;33m\u001b[0m\u001b[1;33m\u001b[0m\u001b[0m\n\u001b[0m\u001b[0;32m      3\u001b[0m \u001b[0mdf\u001b[0m\u001b[1;33m.\u001b[0m\u001b[0mhead\u001b[0m\u001b[1;33m(\u001b[0m\u001b[1;33m)\u001b[0m\u001b[1;33m\u001b[0m\u001b[1;33m\u001b[0m\u001b[0m\n",
            "\u001b[1;32m~\\AppData\\Local\\Programs\\Python\\Python38\\lib\\site-packages\\pandas\\io\\parsers.py\u001b[0m in \u001b[0;36mread_csv\u001b[1;34m(filepath_or_buffer, sep, delimiter, header, names, index_col, usecols, squeeze, prefix, mangle_dupe_cols, dtype, engine, converters, true_values, false_values, skipinitialspace, skiprows, skipfooter, nrows, na_values, keep_default_na, na_filter, verbose, skip_blank_lines, parse_dates, infer_datetime_format, keep_date_col, date_parser, dayfirst, cache_dates, iterator, chunksize, compression, thousands, decimal, lineterminator, quotechar, quoting, doublequote, escapechar, comment, encoding, dialect, error_bad_lines, warn_bad_lines, delim_whitespace, low_memory, memory_map, float_precision, storage_options)\u001b[0m\n\u001b[0;32m    608\u001b[0m     \u001b[0mkwds\u001b[0m\u001b[1;33m.\u001b[0m\u001b[0mupdate\u001b[0m\u001b[1;33m(\u001b[0m\u001b[0mkwds_defaults\u001b[0m\u001b[1;33m)\u001b[0m\u001b[1;33m\u001b[0m\u001b[1;33m\u001b[0m\u001b[0m\n\u001b[0;32m    609\u001b[0m \u001b[1;33m\u001b[0m\u001b[0m\n\u001b[1;32m--> 610\u001b[1;33m     \u001b[1;32mreturn\u001b[0m \u001b[0m_read\u001b[0m\u001b[1;33m(\u001b[0m\u001b[0mfilepath_or_buffer\u001b[0m\u001b[1;33m,\u001b[0m \u001b[0mkwds\u001b[0m\u001b[1;33m)\u001b[0m\u001b[1;33m\u001b[0m\u001b[1;33m\u001b[0m\u001b[0m\n\u001b[0m\u001b[0;32m    611\u001b[0m \u001b[1;33m\u001b[0m\u001b[0m\n\u001b[0;32m    612\u001b[0m \u001b[1;33m\u001b[0m\u001b[0m\n",
            "\u001b[1;32m~\\AppData\\Local\\Programs\\Python\\Python38\\lib\\site-packages\\pandas\\io\\parsers.py\u001b[0m in \u001b[0;36m_read\u001b[1;34m(filepath_or_buffer, kwds)\u001b[0m\n\u001b[0;32m    460\u001b[0m \u001b[1;33m\u001b[0m\u001b[0m\n\u001b[0;32m    461\u001b[0m     \u001b[1;31m# Create the parser.\u001b[0m\u001b[1;33m\u001b[0m\u001b[1;33m\u001b[0m\u001b[1;33m\u001b[0m\u001b[0m\n\u001b[1;32m--> 462\u001b[1;33m     \u001b[0mparser\u001b[0m \u001b[1;33m=\u001b[0m \u001b[0mTextFileReader\u001b[0m\u001b[1;33m(\u001b[0m\u001b[0mfilepath_or_buffer\u001b[0m\u001b[1;33m,\u001b[0m \u001b[1;33m**\u001b[0m\u001b[0mkwds\u001b[0m\u001b[1;33m)\u001b[0m\u001b[1;33m\u001b[0m\u001b[1;33m\u001b[0m\u001b[0m\n\u001b[0m\u001b[0;32m    463\u001b[0m \u001b[1;33m\u001b[0m\u001b[0m\n\u001b[0;32m    464\u001b[0m     \u001b[1;32mif\u001b[0m \u001b[0mchunksize\u001b[0m \u001b[1;32mor\u001b[0m \u001b[0miterator\u001b[0m\u001b[1;33m:\u001b[0m\u001b[1;33m\u001b[0m\u001b[1;33m\u001b[0m\u001b[0m\n",
            "\u001b[1;32m~\\AppData\\Local\\Programs\\Python\\Python38\\lib\\site-packages\\pandas\\io\\parsers.py\u001b[0m in \u001b[0;36m__init__\u001b[1;34m(self, f, engine, **kwds)\u001b[0m\n\u001b[0;32m    817\u001b[0m             \u001b[0mself\u001b[0m\u001b[1;33m.\u001b[0m\u001b[0moptions\u001b[0m\u001b[1;33m[\u001b[0m\u001b[1;34m\"has_index_names\"\u001b[0m\u001b[1;33m]\u001b[0m \u001b[1;33m=\u001b[0m \u001b[0mkwds\u001b[0m\u001b[1;33m[\u001b[0m\u001b[1;34m\"has_index_names\"\u001b[0m\u001b[1;33m]\u001b[0m\u001b[1;33m\u001b[0m\u001b[1;33m\u001b[0m\u001b[0m\n\u001b[0;32m    818\u001b[0m \u001b[1;33m\u001b[0m\u001b[0m\n\u001b[1;32m--> 819\u001b[1;33m         \u001b[0mself\u001b[0m\u001b[1;33m.\u001b[0m\u001b[0m_engine\u001b[0m \u001b[1;33m=\u001b[0m \u001b[0mself\u001b[0m\u001b[1;33m.\u001b[0m\u001b[0m_make_engine\u001b[0m\u001b[1;33m(\u001b[0m\u001b[0mself\u001b[0m\u001b[1;33m.\u001b[0m\u001b[0mengine\u001b[0m\u001b[1;33m)\u001b[0m\u001b[1;33m\u001b[0m\u001b[1;33m\u001b[0m\u001b[0m\n\u001b[0m\u001b[0;32m    820\u001b[0m \u001b[1;33m\u001b[0m\u001b[0m\n\u001b[0;32m    821\u001b[0m     \u001b[1;32mdef\u001b[0m \u001b[0mclose\u001b[0m\u001b[1;33m(\u001b[0m\u001b[0mself\u001b[0m\u001b[1;33m)\u001b[0m\u001b[1;33m:\u001b[0m\u001b[1;33m\u001b[0m\u001b[1;33m\u001b[0m\u001b[0m\n",
            "\u001b[1;32m~\\AppData\\Local\\Programs\\Python\\Python38\\lib\\site-packages\\pandas\\io\\parsers.py\u001b[0m in \u001b[0;36m_make_engine\u001b[1;34m(self, engine)\u001b[0m\n\u001b[0;32m   1048\u001b[0m             )\n\u001b[0;32m   1049\u001b[0m         \u001b[1;31m# error: Too many arguments for \"ParserBase\"\u001b[0m\u001b[1;33m\u001b[0m\u001b[1;33m\u001b[0m\u001b[1;33m\u001b[0m\u001b[0m\n\u001b[1;32m-> 1050\u001b[1;33m         \u001b[1;32mreturn\u001b[0m \u001b[0mmapping\u001b[0m\u001b[1;33m[\u001b[0m\u001b[0mengine\u001b[0m\u001b[1;33m]\u001b[0m\u001b[1;33m(\u001b[0m\u001b[0mself\u001b[0m\u001b[1;33m.\u001b[0m\u001b[0mf\u001b[0m\u001b[1;33m,\u001b[0m \u001b[1;33m**\u001b[0m\u001b[0mself\u001b[0m\u001b[1;33m.\u001b[0m\u001b[0moptions\u001b[0m\u001b[1;33m)\u001b[0m  \u001b[1;31m# type: ignore[call-arg]\u001b[0m\u001b[1;33m\u001b[0m\u001b[1;33m\u001b[0m\u001b[0m\n\u001b[0m\u001b[0;32m   1051\u001b[0m \u001b[1;33m\u001b[0m\u001b[0m\n\u001b[0;32m   1052\u001b[0m     \u001b[1;32mdef\u001b[0m \u001b[0m_failover_to_python\u001b[0m\u001b[1;33m(\u001b[0m\u001b[0mself\u001b[0m\u001b[1;33m)\u001b[0m\u001b[1;33m:\u001b[0m\u001b[1;33m\u001b[0m\u001b[1;33m\u001b[0m\u001b[0m\n",
            "\u001b[1;32m~\\AppData\\Local\\Programs\\Python\\Python38\\lib\\site-packages\\pandas\\io\\parsers.py\u001b[0m in \u001b[0;36m__init__\u001b[1;34m(self, src, **kwds)\u001b[0m\n\u001b[0;32m   1865\u001b[0m \u001b[1;33m\u001b[0m\u001b[0m\n\u001b[0;32m   1866\u001b[0m         \u001b[1;31m# open handles\u001b[0m\u001b[1;33m\u001b[0m\u001b[1;33m\u001b[0m\u001b[1;33m\u001b[0m\u001b[0m\n\u001b[1;32m-> 1867\u001b[1;33m         \u001b[0mself\u001b[0m\u001b[1;33m.\u001b[0m\u001b[0m_open_handles\u001b[0m\u001b[1;33m(\u001b[0m\u001b[0msrc\u001b[0m\u001b[1;33m,\u001b[0m \u001b[0mkwds\u001b[0m\u001b[1;33m)\u001b[0m\u001b[1;33m\u001b[0m\u001b[1;33m\u001b[0m\u001b[0m\n\u001b[0m\u001b[0;32m   1868\u001b[0m         \u001b[1;32massert\u001b[0m \u001b[0mself\u001b[0m\u001b[1;33m.\u001b[0m\u001b[0mhandles\u001b[0m \u001b[1;32mis\u001b[0m \u001b[1;32mnot\u001b[0m \u001b[1;32mNone\u001b[0m\u001b[1;33m\u001b[0m\u001b[1;33m\u001b[0m\u001b[0m\n\u001b[0;32m   1869\u001b[0m         \u001b[1;32mfor\u001b[0m \u001b[0mkey\u001b[0m \u001b[1;32min\u001b[0m \u001b[1;33m(\u001b[0m\u001b[1;34m\"storage_options\"\u001b[0m\u001b[1;33m,\u001b[0m \u001b[1;34m\"encoding\"\u001b[0m\u001b[1;33m,\u001b[0m \u001b[1;34m\"memory_map\"\u001b[0m\u001b[1;33m,\u001b[0m \u001b[1;34m\"compression\"\u001b[0m\u001b[1;33m)\u001b[0m\u001b[1;33m:\u001b[0m\u001b[1;33m\u001b[0m\u001b[1;33m\u001b[0m\u001b[0m\n",
            "\u001b[1;32m~\\AppData\\Local\\Programs\\Python\\Python38\\lib\\site-packages\\pandas\\io\\parsers.py\u001b[0m in \u001b[0;36m_open_handles\u001b[1;34m(self, src, kwds)\u001b[0m\n\u001b[0;32m   1360\u001b[0m         \u001b[0mLet\u001b[0m \u001b[0mthe\u001b[0m \u001b[0mreaders\u001b[0m \u001b[0mopen\u001b[0m \u001b[0mIOHanldes\u001b[0m \u001b[0mafter\u001b[0m \u001b[0mthey\u001b[0m \u001b[0mare\u001b[0m \u001b[0mdone\u001b[0m \u001b[1;32mwith\u001b[0m \u001b[0mtheir\u001b[0m \u001b[0mpotential\u001b[0m \u001b[0mraises\u001b[0m\u001b[1;33m.\u001b[0m\u001b[1;33m\u001b[0m\u001b[1;33m\u001b[0m\u001b[0m\n\u001b[0;32m   1361\u001b[0m         \"\"\"\n\u001b[1;32m-> 1362\u001b[1;33m         self.handles = get_handle(\n\u001b[0m\u001b[0;32m   1363\u001b[0m             \u001b[0msrc\u001b[0m\u001b[1;33m,\u001b[0m\u001b[1;33m\u001b[0m\u001b[1;33m\u001b[0m\u001b[0m\n\u001b[0;32m   1364\u001b[0m             \u001b[1;34m\"r\"\u001b[0m\u001b[1;33m,\u001b[0m\u001b[1;33m\u001b[0m\u001b[1;33m\u001b[0m\u001b[0m\n",
            "\u001b[1;32m~\\AppData\\Local\\Programs\\Python\\Python38\\lib\\site-packages\\pandas\\io\\common.py\u001b[0m in \u001b[0;36mget_handle\u001b[1;34m(path_or_buf, mode, encoding, compression, memory_map, is_text, errors, storage_options)\u001b[0m\n\u001b[0;32m    640\u001b[0m                 \u001b[0merrors\u001b[0m \u001b[1;33m=\u001b[0m \u001b[1;34m\"replace\"\u001b[0m\u001b[1;33m\u001b[0m\u001b[1;33m\u001b[0m\u001b[0m\n\u001b[0;32m    641\u001b[0m             \u001b[1;31m# Encoding\u001b[0m\u001b[1;33m\u001b[0m\u001b[1;33m\u001b[0m\u001b[1;33m\u001b[0m\u001b[0m\n\u001b[1;32m--> 642\u001b[1;33m             handle = open(\n\u001b[0m\u001b[0;32m    643\u001b[0m                 \u001b[0mhandle\u001b[0m\u001b[1;33m,\u001b[0m\u001b[1;33m\u001b[0m\u001b[1;33m\u001b[0m\u001b[0m\n\u001b[0;32m    644\u001b[0m                 \u001b[0mioargs\u001b[0m\u001b[1;33m.\u001b[0m\u001b[0mmode\u001b[0m\u001b[1;33m,\u001b[0m\u001b[1;33m\u001b[0m\u001b[1;33m\u001b[0m\u001b[0m\n",
            "\u001b[1;31mFileNotFoundError\u001b[0m: [Errno 2] No such file or directory: 'diabetes_data.csv'"
          ]
        }
      ]
    },
    {
      "cell_type": "code",
      "metadata": {
        "id": "76htpd8vgi0C",
        "outputId": "a872ac9b-e75f-47e6-ddf5-3f85cf524319"
      },
      "source": [
        "#check number of rows and columns in dataset\n",
        "df.shape"
      ],
      "execution_count": null,
      "outputs": [
        {
          "output_type": "execute_result",
          "data": {
            "text/plain": [
              "(768, 9)"
            ]
          },
          "metadata": {
            "tags": []
          },
          "execution_count": 35
        }
      ]
    },
    {
      "cell_type": "code",
      "metadata": {
        "id": "oIuYXDFxgi0F",
        "outputId": "65dea964-ecb6-4c23-fd72-0e63c996abfe"
      },
      "source": [
        "#create a dataframe with all training data except the target column\n",
        "X = df.drop(columns=['Outcome'])#check that the target variable has been removed\n",
        "X.head()"
      ],
      "execution_count": 17,
      "outputs": [
        {
          "output_type": "error",
          "ename": "NameError",
          "evalue": "name 'df' is not defined",
          "traceback": [
            "\u001b[1;31m---------------------------------------------------------------------------\u001b[0m",
            "\u001b[1;31mNameError\u001b[0m                                 Traceback (most recent call last)",
            "\u001b[1;32m<ipython-input-17-621d9a104c84>\u001b[0m in \u001b[0;36m<module>\u001b[1;34m\u001b[0m\n\u001b[0;32m      1\u001b[0m \u001b[1;31m#create a dataframe with all training data except the target column\u001b[0m\u001b[1;33m\u001b[0m\u001b[1;33m\u001b[0m\u001b[1;33m\u001b[0m\u001b[0m\n\u001b[1;32m----> 2\u001b[1;33m \u001b[0mX\u001b[0m \u001b[1;33m=\u001b[0m \u001b[0mdf\u001b[0m\u001b[1;33m.\u001b[0m\u001b[0mdrop\u001b[0m\u001b[1;33m(\u001b[0m\u001b[0mcolumns\u001b[0m\u001b[1;33m=\u001b[0m\u001b[1;33m[\u001b[0m\u001b[1;34m'Outcome'\u001b[0m\u001b[1;33m]\u001b[0m\u001b[1;33m)\u001b[0m\u001b[1;31m#check that the target variable has been removed\u001b[0m\u001b[1;33m\u001b[0m\u001b[1;33m\u001b[0m\u001b[0m\n\u001b[0m\u001b[0;32m      3\u001b[0m \u001b[0mX\u001b[0m\u001b[1;33m.\u001b[0m\u001b[0mhead\u001b[0m\u001b[1;33m(\u001b[0m\u001b[1;33m)\u001b[0m\u001b[1;33m\u001b[0m\u001b[1;33m\u001b[0m\u001b[0m\n",
            "\u001b[1;31mNameError\u001b[0m: name 'df' is not defined"
          ]
        }
      ]
    },
    {
      "cell_type": "code",
      "metadata": {
        "id": "Z2kzhOA-gi0H",
        "outputId": "44dde510-c4cb-419d-b8ae-b3d983591b09"
      },
      "source": [
        "#separate target values\n",
        "y = df['Outcome'].values#view target values\n",
        "y[0:5]"
      ],
      "execution_count": 18,
      "outputs": [
        {
          "output_type": "error",
          "ename": "NameError",
          "evalue": "name 'df' is not defined",
          "traceback": [
            "\u001b[1;31m---------------------------------------------------------------------------\u001b[0m",
            "\u001b[1;31mNameError\u001b[0m                                 Traceback (most recent call last)",
            "\u001b[1;32m<ipython-input-18-0a0f8f05e57d>\u001b[0m in \u001b[0;36m<module>\u001b[1;34m\u001b[0m\n\u001b[0;32m      1\u001b[0m \u001b[1;31m#separate target values\u001b[0m\u001b[1;33m\u001b[0m\u001b[1;33m\u001b[0m\u001b[1;33m\u001b[0m\u001b[0m\n\u001b[1;32m----> 2\u001b[1;33m \u001b[0my\u001b[0m \u001b[1;33m=\u001b[0m \u001b[0mdf\u001b[0m\u001b[1;33m[\u001b[0m\u001b[1;34m'Outcome'\u001b[0m\u001b[1;33m]\u001b[0m\u001b[1;33m.\u001b[0m\u001b[0mvalues\u001b[0m\u001b[1;31m#view target values\u001b[0m\u001b[1;33m\u001b[0m\u001b[1;33m\u001b[0m\u001b[0m\n\u001b[0m\u001b[0;32m      3\u001b[0m \u001b[0my\u001b[0m\u001b[1;33m[\u001b[0m\u001b[1;36m0\u001b[0m\u001b[1;33m:\u001b[0m\u001b[1;36m5\u001b[0m\u001b[1;33m]\u001b[0m\u001b[1;33m\u001b[0m\u001b[1;33m\u001b[0m\u001b[0m\n",
            "\u001b[1;31mNameError\u001b[0m: name 'df' is not defined"
          ]
        }
      ]
    },
    {
      "cell_type": "code",
      "metadata": {
        "id": "Xc2YkEsggi0I"
      },
      "source": [
        "from sklearn.model_selection import train_test_split\n",
        "#split dataset into train and test data\n",
        "X_train, X_test, y_train, y_test = train_test_split(X, y, test_size=0.2, random_state=1, stratify=y)"
      ],
      "execution_count": null,
      "outputs": []
    },
    {
      "cell_type": "code",
      "metadata": {
        "id": "rMRWwRtogi0J",
        "outputId": "90b15f51-7538-453b-ff00-04a300fb8251"
      },
      "source": [
        "from sklearn.neighbors import KNeighborsClassifier\n",
        "# Create KNN classifier\n",
        "knn = KNeighborsClassifier(n_neighbors = 3)\n",
        "# Fit the classifier to the data\n",
        "knn.fit(X_train,y_train)"
      ],
      "execution_count": null,
      "outputs": [
        {
          "output_type": "execute_result",
          "data": {
            "text/plain": [
              "KNeighborsClassifier(algorithm='auto', leaf_size=30, metric='minkowski',\n",
              "                     metric_params=None, n_jobs=None, n_neighbors=3, p=2,\n",
              "                     weights='uniform')"
            ]
          },
          "metadata": {
            "tags": []
          },
          "execution_count": 41
        }
      ]
    },
    {
      "cell_type": "code",
      "metadata": {
        "id": "ghiMcmpggi0K",
        "outputId": "0584400a-7ea5-49c0-ab26-ddb4bf0a79ea"
      },
      "source": [
        "#show first 5 model predictions on the test data\n",
        "knn.predict(X_test)[0:5]"
      ],
      "execution_count": null,
      "outputs": [
        {
          "output_type": "execute_result",
          "data": {
            "text/plain": [
              "array([0, 0, 0, 0, 1], dtype=int64)"
            ]
          },
          "metadata": {
            "tags": []
          },
          "execution_count": 42
        }
      ]
    },
    {
      "cell_type": "code",
      "metadata": {
        "id": "E2oAHLRkgi0N",
        "outputId": "f8c6f14c-1b2f-49ee-b8c5-1c290cd12d68"
      },
      "source": [
        "#check accuracy of our model on the test data\n",
        "knn.score(X_test, y_test)"
      ],
      "execution_count": null,
      "outputs": [
        {
          "output_type": "execute_result",
          "data": {
            "text/plain": [
              "0.6688311688311688"
            ]
          },
          "metadata": {
            "tags": []
          },
          "execution_count": 43
        }
      ]
    },
    {
      "cell_type": "code",
      "metadata": {
        "id": "MLPn2NW5gi0O",
        "outputId": "4ce40021-bb3b-4497-f7fd-65101cf7232c"
      },
      "source": [
        "from sklearn.model_selection import cross_val_score\n",
        "import numpy as np\n",
        "#create a new KNN model\n",
        "knn_cv = KNeighborsClassifier(n_neighbors=3)\n",
        "#train model with cv of 5 \n",
        "cv_scores = cross_val_score(knn_cv, X, y, cv=5)\n",
        "#print each cv score (accuracy) and average them\n",
        "print(cv_scores)\n",
        "print('cv_scores mean:{}'.format(np.mean(cv_scores)))"
      ],
      "execution_count": null,
      "outputs": [
        {
          "output_type": "stream",
          "text": [
            "[0.68181818 0.69480519 0.75324675 0.75163399 0.68627451]\n",
            "cv_scores mean:0.7135557253204311\n"
          ],
          "name": "stdout"
        }
      ]
    },
    {
      "cell_type": "code",
      "metadata": {
        "id": "BfAMzGbwgi0P"
      },
      "source": [],
      "execution_count": null,
      "outputs": []
    }
  ]
}