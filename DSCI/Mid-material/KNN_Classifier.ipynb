{
  "nbformat": 4,
  "nbformat_minor": 0,
  "metadata": {
    "kernelspec": {
      "display_name": "Python 3",
      "language": "python",
      "name": "python3"
    },
    "language_info": {
      "codemirror_mode": {
        "name": "ipython",
        "version": 3
      },
      "file_extension": ".py",
      "mimetype": "text/x-python",
      "name": "python",
      "nbconvert_exporter": "python",
      "pygments_lexer": "ipython3",
      "version": "3.8.5-final"
    },
    "colab": {
      "name": "KNN Classifier.ipynb",
      "provenance": []
    }
  },
  "cells": [
    {
      "cell_type": "code",
      "metadata": {
        "id": "cB-agznzghdx"
      },
      "source": [
        "import pandas\n",
        "from sklearn.model_selection import train_test_split\n",
        "from sklearn.metrics import classification_report\n",
        "from sklearn.metrics import confusion_matrix\n",
        "from sklearn.metrics import accuracy_score\n",
        "from sklearn.neighbors import KNeighborsClassifier"
      ],
      "execution_count": 3,
      "outputs": []
    },
    {
      "cell_type": "code",
      "metadata": {
        "id": "T3bv20usgheE",
        "outputId": "8b9d9369-b6d1-4ece-a893-c310eb12eaa0"
      },
      "source": [
        "#part A\n",
        "names = ['sepal-length', 'sepal-width', 'petal-length', 'petal-width', 'class']\n",
        "dataset = pandas.read_csv(\"iris.data\", names=names)\n",
        "dataset.head()\n"
      ],
      "execution_count": 5,
      "outputs": [
        {
          "output_type": "execute_result",
          "data": {
            "text/plain": [
              "   sepal-length  sepal-width  petal-length  petal-width        class\n",
              "0           5.1          3.5           1.4          0.2  Iris-setosa\n",
              "1           4.9          3.0           1.4          0.2  Iris-setosa\n",
              "2           4.7          3.2           1.3          0.2  Iris-setosa\n",
              "3           4.6          3.1           1.5          0.2  Iris-setosa\n",
              "4           5.0          3.6           1.4          0.2  Iris-setosa"
            ],
            "text/html": "<div>\n<style scoped>\n    .dataframe tbody tr th:only-of-type {\n        vertical-align: middle;\n    }\n\n    .dataframe tbody tr th {\n        vertical-align: top;\n    }\n\n    .dataframe thead th {\n        text-align: right;\n    }\n</style>\n<table border=\"1\" class=\"dataframe\">\n  <thead>\n    <tr style=\"text-align: right;\">\n      <th></th>\n      <th>sepal-length</th>\n      <th>sepal-width</th>\n      <th>petal-length</th>\n      <th>petal-width</th>\n      <th>class</th>\n    </tr>\n  </thead>\n  <tbody>\n    <tr>\n      <th>0</th>\n      <td>5.1</td>\n      <td>3.5</td>\n      <td>1.4</td>\n      <td>0.2</td>\n      <td>Iris-setosa</td>\n    </tr>\n    <tr>\n      <th>1</th>\n      <td>4.9</td>\n      <td>3.0</td>\n      <td>1.4</td>\n      <td>0.2</td>\n      <td>Iris-setosa</td>\n    </tr>\n    <tr>\n      <th>2</th>\n      <td>4.7</td>\n      <td>3.2</td>\n      <td>1.3</td>\n      <td>0.2</td>\n      <td>Iris-setosa</td>\n    </tr>\n    <tr>\n      <th>3</th>\n      <td>4.6</td>\n      <td>3.1</td>\n      <td>1.5</td>\n      <td>0.2</td>\n      <td>Iris-setosa</td>\n    </tr>\n    <tr>\n      <th>4</th>\n      <td>5.0</td>\n      <td>3.6</td>\n      <td>1.4</td>\n      <td>0.2</td>\n      <td>Iris-setosa</td>\n    </tr>\n  </tbody>\n</table>\n</div>"
          },
          "metadata": {},
          "execution_count": 5
        }
      ]
    },
    {
      "cell_type": "code",
      "metadata": {
        "id": "0Z9t-XxbgheH",
        "outputId": "c20d96da-0a40-4c02-eff0-a2a949c8cad0"
      },
      "source": [
        "#part B\n",
        "print(dataset.shape)"
      ],
      "execution_count": 6,
      "outputs": [
        {
          "output_type": "stream",
          "name": "stdout",
          "text": [
            "(150, 5)\n"
          ]
        }
      ]
    },
    {
      "cell_type": "code",
      "metadata": {
        "id": "mWvvmgKCgheI",
        "outputId": "079c80c9-f609-433c-fa1d-c849c29188e1"
      },
      "source": [
        "#Part C\n",
        "print(dataset.groupby('class').size())"
      ],
      "execution_count": 7,
      "outputs": [
        {
          "output_type": "stream",
          "name": "stdout",
          "text": [
            "class\nIris-setosa        50\nIris-versicolor    50\nIris-virginica     50\ndtype: int64\n"
          ]
        }
      ]
    },
    {
      "cell_type": "code",
      "metadata": {
        "id": "ReRr0eR5gheJ"
      },
      "source": [
        "#part D\n",
        "array = dataset.values\n",
        "X = array[:,0:4]\n",
        "Y = array[:,4]\n",
        "t_size = 0.20\n",
        "seed = 7\n",
        "X_train, X_test, Y_train, Y_test = train_test_split(X, Y, test_size=t_size, random_state=seed)"
      ],
      "execution_count": 8,
      "outputs": []
    },
    {
      "cell_type": "code",
      "metadata": {
        "id": "V2LTkov4gheK",
        "outputId": "6ccc4a01-ac99-45cd-8c3f-6149fa0e5948"
      },
      "source": [
        "#Part E\n",
        "print('\\n')\n",
        "print('part e')\n",
        "print('\\n')\n",
        "knn = KNeighborsClassifier()\n",
        "knn.fit(X_train, Y_train) \n",
        "\n",
        "predictions = knn.predict(X_test) \n",
        "print(\"Predictions\")\n",
        "print(predictions)\n",
        "print(accuracy_score(Y_test, predictions)) \n",
        "\n",
        "print(confusion_matrix(Y_test, predictions)) \n",
        "\n",
        "print(classification_report(Y_test, predictions))\n"
      ],
      "execution_count": 12,
      "outputs": [
        {
          "output_type": "stream",
          "name": "stdout",
          "text": [
            "\n\npart e\n\n\nPredictions\n['Iris-virginica' 'Iris-versicolor' 'Iris-setosa' 'Iris-versicolor'\n 'Iris-versicolor' 'Iris-setosa' 'Iris-versicolor' 'Iris-versicolor'\n 'Iris-setosa' 'Iris-versicolor' 'Iris-virginica' 'Iris-versicolor'\n 'Iris-setosa' 'Iris-virginica' 'Iris-setosa' 'Iris-versicolor'\n 'Iris-virginica' 'Iris-virginica' 'Iris-setosa' 'Iris-setosa'\n 'Iris-versicolor' 'Iris-virginica' 'Iris-versicolor' 'Iris-versicolor'\n 'Iris-virginica' 'Iris-virginica' 'Iris-versicolor' 'Iris-versicolor'\n 'Iris-virginica' 'Iris-virginica']\n0.9\n[[ 7  0  0]\n [ 0 11  1]\n [ 0  2  9]]\n                 precision    recall  f1-score   support\n\n    Iris-setosa       1.00      1.00      1.00         7\nIris-versicolor       0.85      0.92      0.88        12\n Iris-virginica       0.90      0.82      0.86        11\n\n       accuracy                           0.90        30\n      macro avg       0.92      0.91      0.91        30\n   weighted avg       0.90      0.90      0.90        30\n\n"
          ]
        }
      ]
    },
    {
      "cell_type": "code",
      "metadata": {
        "id": "9kNBwFvSgheM",
        "outputId": "bdfbf07c-c07c-457d-c8a3-9ac25c545744"
      },
      "source": [
        "#Part F\n",
        "k_range= range (1,10)\n",
        "print('\\n')\n",
        "print('part f')\n",
        "print('\\n')\n",
        "\n",
        "for k in k_range:\n",
        "    knn = KNeighborsClassifier(n_neighbors=k) \n",
        "    knn.fit(X_train, Y_train) \n",
        "\n",
        "    predictions = knn.predict(X_test) \n",
        "\n",
        "    print('k',k,'accuracy',accuracy_score(Y_test, predictions)) "
      ],
      "execution_count": 10,
      "outputs": [
        {
          "output_type": "stream",
          "name": "stdout",
          "text": [
            "\n",
            "\n",
            "part f\n",
            "\n",
            "\n",
            "k 1 accuracy 0.9\n",
            "k 2 accuracy 0.9333333333333333\n",
            "k 3 accuracy 0.9\n",
            "k 4 accuracy 0.9333333333333333\n",
            "k 5 accuracy 0.9\n",
            "k 6 accuracy 0.8666666666666667\n",
            "k 7 accuracy 0.8666666666666667\n",
            "k 8 accuracy 0.9\n",
            "k 9 accuracy 0.9\n"
          ]
        }
      ]
    },
    {
      "cell_type": "code",
      "metadata": {
        "id": "BDYZRyKdgheN",
        "outputId": "8e30ee13-b04a-40d4-a89e-835d36760801"
      },
      "source": [
        "#Part G\n",
        "print('\\n')\n",
        "print('part g')\n",
        "print('\\n')\n",
        "seed_range= range (1,10)\n",
        "for k in seed_range:\n",
        "    knn = KNeighborsClassifier() \n",
        "    knn.fit(X_train, Y_train) \n",
        "\n",
        "    predictions = knn.predict(X_test) \n",
        "\n",
        "    print('seed',k,'accuracy',accuracy_score(Y_test, predictions))"
      ],
      "execution_count": 11,
      "outputs": [
        {
          "output_type": "stream",
          "name": "stdout",
          "text": [
            "\n",
            "\n",
            "part g\n",
            "\n",
            "\n",
            "seed 1 accuracy 0.9\n",
            "seed 2 accuracy 0.9\n",
            "seed 3 accuracy 0.9\n",
            "seed 4 accuracy 0.9\n",
            "seed 5 accuracy 0.9\n",
            "seed 6 accuracy 0.9\n",
            "seed 7 accuracy 0.9\n",
            "seed 8 accuracy 0.9\n",
            "seed 9 accuracy 0.9\n"
          ]
        }
      ]
    },
    {
      "cell_type": "code",
      "metadata": {
        "id": "Nrbq1uPRgheO"
      },
      "source": [],
      "execution_count": null,
      "outputs": []
    }
  ]
}