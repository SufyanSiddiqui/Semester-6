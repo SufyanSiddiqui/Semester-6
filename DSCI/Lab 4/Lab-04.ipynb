{
 "nbformat": 4,
 "nbformat_minor": 2,
 "metadata": {
  "language_info": {
   "name": "python",
   "codemirror_mode": {
    "name": "ipython",
    "version": 3
   },
   "version": "3.8.6-final"
  },
  "orig_nbformat": 2,
  "file_extension": ".py",
  "mimetype": "text/x-python",
  "name": "python",
  "npconvert_exporter": "python",
  "pygments_lexer": "ipython3",
  "version": 3,
  "kernelspec": {
   "name": "python3",
   "display_name": "Python 3.8.6 64-bit",
   "metadata": {
    "interpreter": {
     "hash": "084b600058337c1ed128ca8083189dc1e4acdaba21b28d93c78c8c5801a2baae"
    }
   }
  }
 },
 "cells": [
  {
   "cell_type": "code",
   "execution_count": 1,
   "metadata": {},
   "outputs": [],
   "source": [
    "# DSCI Lab 4\n",
    "# K181161 \n",
    "# Muhammad Sufyan Siddiqui"
   ]
  },
  {
   "cell_type": "code",
   "execution_count": 10,
   "metadata": {},
   "outputs": [],
   "source": [
    "import pandas as pd\n",
    "from sklearn.model_selection import train_test_split\n",
    "from sklearn.metrics import classification_report\n",
    "from sklearn.metrics import confusion_matrix\n",
    "from sklearn.metrics import accuracy_score\n",
    "from sklearn.neighbors import KNeighborsClassifier"
   ]
  },
  {
   "cell_type": "code",
   "execution_count": 11,
   "metadata": {},
   "outputs": [
    {
     "output_type": "execute_result",
     "data": {
      "text/plain": [
       "     sepal-length  sepal-width  petal-length  petal-width           class\n",
       "0             5.1          3.5           1.4          0.2     Iris-setosa\n",
       "1             4.9          3.0           1.4          0.2     Iris-setosa\n",
       "2             4.7          3.2           1.3          0.2     Iris-setosa\n",
       "3             4.6          3.1           1.5          0.2     Iris-setosa\n",
       "4             5.0          3.6           1.4          0.2     Iris-setosa\n",
       "..            ...          ...           ...          ...             ...\n",
       "145           6.7          3.0           5.2          2.3  Iris-virginica\n",
       "146           6.3          2.5           5.0          1.9  Iris-virginica\n",
       "147           6.5          3.0           5.2          2.0  Iris-virginica\n",
       "148           6.2          3.4           5.4          2.3  Iris-virginica\n",
       "149           5.9          3.0           5.1          1.8  Iris-virginica\n",
       "\n",
       "[150 rows x 5 columns]"
      ],
      "text/html": "<div>\n<style scoped>\n    .dataframe tbody tr th:only-of-type {\n        vertical-align: middle;\n    }\n\n    .dataframe tbody tr th {\n        vertical-align: top;\n    }\n\n    .dataframe thead th {\n        text-align: right;\n    }\n</style>\n<table border=\"1\" class=\"dataframe\">\n  <thead>\n    <tr style=\"text-align: right;\">\n      <th></th>\n      <th>sepal-length</th>\n      <th>sepal-width</th>\n      <th>petal-length</th>\n      <th>petal-width</th>\n      <th>class</th>\n    </tr>\n  </thead>\n  <tbody>\n    <tr>\n      <th>0</th>\n      <td>5.1</td>\n      <td>3.5</td>\n      <td>1.4</td>\n      <td>0.2</td>\n      <td>Iris-setosa</td>\n    </tr>\n    <tr>\n      <th>1</th>\n      <td>4.9</td>\n      <td>3.0</td>\n      <td>1.4</td>\n      <td>0.2</td>\n      <td>Iris-setosa</td>\n    </tr>\n    <tr>\n      <th>2</th>\n      <td>4.7</td>\n      <td>3.2</td>\n      <td>1.3</td>\n      <td>0.2</td>\n      <td>Iris-setosa</td>\n    </tr>\n    <tr>\n      <th>3</th>\n      <td>4.6</td>\n      <td>3.1</td>\n      <td>1.5</td>\n      <td>0.2</td>\n      <td>Iris-setosa</td>\n    </tr>\n    <tr>\n      <th>4</th>\n      <td>5.0</td>\n      <td>3.6</td>\n      <td>1.4</td>\n      <td>0.2</td>\n      <td>Iris-setosa</td>\n    </tr>\n    <tr>\n      <th>...</th>\n      <td>...</td>\n      <td>...</td>\n      <td>...</td>\n      <td>...</td>\n      <td>...</td>\n    </tr>\n    <tr>\n      <th>145</th>\n      <td>6.7</td>\n      <td>3.0</td>\n      <td>5.2</td>\n      <td>2.3</td>\n      <td>Iris-virginica</td>\n    </tr>\n    <tr>\n      <th>146</th>\n      <td>6.3</td>\n      <td>2.5</td>\n      <td>5.0</td>\n      <td>1.9</td>\n      <td>Iris-virginica</td>\n    </tr>\n    <tr>\n      <th>147</th>\n      <td>6.5</td>\n      <td>3.0</td>\n      <td>5.2</td>\n      <td>2.0</td>\n      <td>Iris-virginica</td>\n    </tr>\n    <tr>\n      <th>148</th>\n      <td>6.2</td>\n      <td>3.4</td>\n      <td>5.4</td>\n      <td>2.3</td>\n      <td>Iris-virginica</td>\n    </tr>\n    <tr>\n      <th>149</th>\n      <td>5.9</td>\n      <td>3.0</td>\n      <td>5.1</td>\n      <td>1.8</td>\n      <td>Iris-virginica</td>\n    </tr>\n  </tbody>\n</table>\n<p>150 rows × 5 columns</p>\n</div>"
     },
     "metadata": {},
     "execution_count": 11
    }
   ],
   "source": [
    "names = ['sepal-length', 'sepal-width', 'petal-length', 'petal-width', 'class']\n",
    "dataset = pd.read_csv(\"iris.data\", names=names)\n",
    "dataset\n"
   ]
  },
  {
   "cell_type": "code",
   "execution_count": 12,
   "metadata": {},
   "outputs": [
    {
     "output_type": "execute_result",
     "data": {
      "text/plain": [
       "(150, 5)"
      ]
     },
     "metadata": {},
     "execution_count": 12
    }
   ],
   "source": [
    "dataset.shape"
   ]
  },
  {
   "cell_type": "code",
   "execution_count": 13,
   "metadata": {},
   "outputs": [
    {
     "output_type": "execute_result",
     "data": {
      "text/plain": [
       "class\n",
       "Iris-setosa        50\n",
       "Iris-versicolor    50\n",
       "Iris-virginica     50\n",
       "dtype: int64"
      ]
     },
     "metadata": {},
     "execution_count": 13
    }
   ],
   "source": [
    "dataset.groupby('class').size()"
   ]
  },
  {
   "cell_type": "code",
   "execution_count": 20,
   "metadata": {},
   "outputs": [
    {
     "name": "stdout",
     "output_type": "stream",
     "text": "X-Train=  [[5.0 3.3 1.4 0.2]\n [6.7 3.1 4.4 1.4]\n [6.0 2.2 4.0 1.0]\n [6.4 2.7 5.3 1.9]\n [4.7 3.2 1.6 0.2]\n [4.6 3.1 1.5 0.2]\n [5.1 3.4 1.5 0.2]\n [7.7 3.8 6.7 2.2]\n [4.3 3.0 1.1 0.1]\n [6.3 3.3 6.0 2.5]\n [5.5 2.4 3.7 1.0]\n [5.0 2.0 3.5 1.0]\n [6.5 2.8 4.6 1.5]\n [5.0 3.4 1.6 0.4]\n [4.4 2.9 1.4 0.2]\n [5.0 3.5 1.6 0.6]\n [6.7 3.1 4.7 1.5]\n [7.3 2.9 6.3 1.8]\n [5.5 2.6 4.4 1.2]\n [5.2 2.7 3.9 1.4]\n [5.7 4.4 1.5 0.4]\n [7.2 3.2 6.0 1.8]\n [5.4 3.4 1.7 0.2]\n [5.8 4.0 1.2 0.2]\n [6.1 2.6 5.6 1.4]\n [5.7 2.5 5.0 2.0]\n [4.8 3.0 1.4 0.1]\n [6.5 3.0 5.8 2.2]\n [4.6 3.2 1.4 0.2]\n [6.6 2.9 4.6 1.3]\n [6.7 3.0 5.2 2.3]\n [6.1 3.0 4.6 1.4]\n [5.7 3.8 1.7 0.3]\n [7.0 3.2 4.7 1.4]\n [4.7 3.2 1.3 0.2]\n [6.5 3.0 5.2 2.0]\n [7.7 2.6 6.9 2.3]\n [4.9 2.4 3.3 1.0]\n [4.8 3.1 1.6 0.2]\n [5.5 4.2 1.4 0.2]\n [5.6 3.0 4.1 1.3]\n [6.4 3.2 5.3 2.3]\n [5.2 3.5 1.5 0.2]\n [7.9 3.8 6.4 2.0]\n [5.8 2.8 5.1 2.4]\n [5.7 2.9 4.2 1.3]\n [5.1 3.7 1.5 0.4]\n [5.1 2.5 3.0 1.1]\n [5.0 3.4 1.5 0.2]\n [7.7 2.8 6.7 2.0]\n [7.6 3.0 6.6 2.1]\n [5.0 3.2 1.2 0.2]\n [5.4 3.7 1.5 0.2]\n [6.7 3.3 5.7 2.5]\n [6.1 2.8 4.0 1.3]\n [6.3 2.5 5.0 1.9]\n [7.4 2.8 6.1 1.9]\n [5.0 2.3 3.3 1.0]\n [5.4 3.4 1.5 0.4]\n [5.4 3.9 1.3 0.4]\n [5.6 2.8 4.9 2.0]\n [4.9 3.0 1.4 0.2]\n [5.3 3.7 1.5 0.2]\n [6.0 2.7 5.1 1.6]\n [6.8 3.2 5.9 2.3]\n [6.2 3.4 5.4 2.3]\n [5.7 2.8 4.1 1.3]\n [6.3 2.3 4.4 1.3]\n [4.9 3.1 1.5 0.1]\n [6.9 3.1 5.1 2.3]\n [5.0 3.6 1.4 0.2]\n [4.4 3.0 1.3 0.2]\n [6.0 2.9 4.5 1.5]\n [6.1 2.8 4.7 1.2]\n [6.4 2.8 5.6 2.1]\n [4.9 3.1 1.5 0.1]\n [5.6 2.9 3.6 1.3]\n [5.9 3.0 4.2 1.5]\n [6.3 2.7 4.9 1.8]\n [6.8 3.0 5.5 2.1]\n [5.5 2.3 4.0 1.3]\n [6.3 2.8 5.1 1.5]\n [4.8 3.4 1.9 0.2]\n [6.3 3.3 4.7 1.6]\n [5.6 2.5 3.9 1.1]\n [5.1 3.8 1.9 0.4]\n [5.1 3.8 1.5 0.3]\n [4.6 3.4 1.4 0.3]\n [5.7 2.8 4.5 1.3]\n [6.6 3.0 4.4 1.4]\n [5.1 3.5 1.4 0.2]\n [7.7 3.0 6.1 2.3]\n [6.1 3.0 4.9 1.8]\n [6.2 2.2 4.5 1.5]\n [6.3 3.4 5.6 2.4]\n [4.4 3.2 1.3 0.2]\n [6.5 3.2 5.1 2.0]\n [5.5 2.5 4.0 1.3]\n [6.3 2.5 4.9 1.5]\n [5.1 3.3 1.7 0.5]\n [5.8 2.7 5.1 1.9]\n [5.8 2.6 4.0 1.2]\n [6.3 2.9 5.6 1.8]\n [5.8 2.7 4.1 1.0]\n [5.0 3.0 1.6 0.2]]\nX-Test=  [[5.9 3.0 5.1 1.8]\n [5.4 3.0 4.5 1.5]\n [5.0 3.5 1.3 0.3]\n [5.6 3.0 4.5 1.5]\n [4.9 2.5 4.5 1.7]\n [4.5 2.3 1.3 0.3]\n [6.9 3.1 4.9 1.5]\n [5.6 2.7 4.2 1.3]\n [4.8 3.4 1.6 0.2]\n [6.4 3.2 4.5 1.5]\n [6.7 3.0 5.0 1.7]\n [6.0 3.4 4.5 1.6]\n [5.2 4.1 1.5 0.1]\n [7.2 3.6 6.1 2.5]\n [5.2 3.4 1.4 0.2]\n [5.9 3.2 4.8 1.8]\n [6.7 2.5 5.8 1.8]\n [6.4 3.1 5.5 1.8]\n [5.1 3.8 1.6 0.2]\n [4.9 3.1 1.5 0.1]\n [5.8 2.7 3.9 1.2]\n [6.9 3.2 5.7 2.3]\n [6.1 2.9 4.7 1.4]\n [6.0 2.2 5.0 1.5]\n [7.2 3.0 5.8 1.6]\n [6.0 3.0 4.8 1.8]\n [6.2 2.9 4.3 1.3]\n [5.5 2.4 3.8 1.1]\n [5.8 2.7 5.1 1.9]\n [6.7 3.1 5.6 2.4]\n [6.2 2.8 4.8 1.8]\n [5.7 2.6 3.5 1.0]\n [4.6 3.6 1.0 0.2]\n [6.9 3.1 5.4 2.1]\n [6.4 2.9 4.3 1.3]\n [4.8 3.0 1.4 0.3]\n [5.5 3.5 1.3 0.2]\n [5.4 3.9 1.7 0.4]\n [5.1 3.5 1.4 0.3]\n [7.1 3.0 5.9 2.1]\n [6.7 3.3 5.7 2.1]\n [6.8 2.8 4.8 1.4]\n [6.4 2.8 5.6 2.2]\n [6.5 3.0 5.5 1.8]\n [5.7 3.0 4.2 1.2]]\nY-Train=  ['Iris-setosa' 'Iris-versicolor' 'Iris-versicolor' 'Iris-virginica'\n 'Iris-setosa' 'Iris-setosa' 'Iris-setosa' 'Iris-virginica' 'Iris-setosa'\n 'Iris-virginica' 'Iris-versicolor' 'Iris-versicolor' 'Iris-versicolor'\n 'Iris-setosa' 'Iris-setosa' 'Iris-setosa' 'Iris-versicolor'\n 'Iris-virginica' 'Iris-versicolor' 'Iris-versicolor' 'Iris-setosa'\n 'Iris-virginica' 'Iris-setosa' 'Iris-setosa' 'Iris-virginica'\n 'Iris-virginica' 'Iris-setosa' 'Iris-virginica' 'Iris-setosa'\n 'Iris-versicolor' 'Iris-virginica' 'Iris-versicolor' 'Iris-setosa'\n 'Iris-versicolor' 'Iris-setosa' 'Iris-virginica' 'Iris-virginica'\n 'Iris-versicolor' 'Iris-setosa' 'Iris-setosa' 'Iris-versicolor'\n 'Iris-virginica' 'Iris-setosa' 'Iris-virginica' 'Iris-virginica'\n 'Iris-versicolor' 'Iris-setosa' 'Iris-versicolor' 'Iris-setosa'\n 'Iris-virginica' 'Iris-virginica' 'Iris-setosa' 'Iris-setosa'\n 'Iris-virginica' 'Iris-versicolor' 'Iris-virginica' 'Iris-virginica'\n 'Iris-versicolor' 'Iris-setosa' 'Iris-setosa' 'Iris-virginica'\n 'Iris-setosa' 'Iris-setosa' 'Iris-versicolor' 'Iris-virginica'\n 'Iris-virginica' 'Iris-versicolor' 'Iris-versicolor' 'Iris-setosa'\n 'Iris-virginica' 'Iris-setosa' 'Iris-setosa' 'Iris-versicolor'\n 'Iris-versicolor' 'Iris-virginica' 'Iris-setosa' 'Iris-versicolor'\n 'Iris-versicolor' 'Iris-virginica' 'Iris-virginica' 'Iris-versicolor'\n 'Iris-virginica' 'Iris-setosa' 'Iris-versicolor' 'Iris-versicolor'\n 'Iris-setosa' 'Iris-setosa' 'Iris-setosa' 'Iris-versicolor'\n 'Iris-versicolor' 'Iris-setosa' 'Iris-virginica' 'Iris-virginica'\n 'Iris-versicolor' 'Iris-virginica' 'Iris-setosa' 'Iris-virginica'\n 'Iris-versicolor' 'Iris-versicolor' 'Iris-setosa' 'Iris-virginica'\n 'Iris-versicolor' 'Iris-virginica' 'Iris-versicolor' 'Iris-setosa']\nY-Test=  ['Iris-virginica' 'Iris-versicolor' 'Iris-setosa' 'Iris-versicolor'\n 'Iris-virginica' 'Iris-setosa' 'Iris-versicolor' 'Iris-versicolor'\n 'Iris-setosa' 'Iris-versicolor' 'Iris-versicolor' 'Iris-versicolor'\n 'Iris-setosa' 'Iris-virginica' 'Iris-setosa' 'Iris-versicolor'\n 'Iris-virginica' 'Iris-virginica' 'Iris-setosa' 'Iris-setosa'\n 'Iris-versicolor' 'Iris-virginica' 'Iris-versicolor' 'Iris-virginica'\n 'Iris-virginica' 'Iris-virginica' 'Iris-versicolor' 'Iris-versicolor'\n 'Iris-virginica' 'Iris-virginica' 'Iris-virginica' 'Iris-versicolor'\n 'Iris-setosa' 'Iris-virginica' 'Iris-versicolor' 'Iris-setosa'\n 'Iris-setosa' 'Iris-setosa' 'Iris-setosa' 'Iris-virginica'\n 'Iris-virginica' 'Iris-versicolor' 'Iris-virginica' 'Iris-virginica'\n 'Iris-versicolor']\n"
    }
   ],
   "source": [
    "# train / test dataset\n",
    "array = dataset.values\n",
    "X = array[:,0:4]\n",
    "Y = array[:,4]\n",
    "t_size = 0.30\n",
    "seed = 7\n",
    "X_train, X_test, Y_train, Y_test = train_test_split(X, Y, test_size=t_size,\n",
    "random_state=seed)\n",
    "#print(\"X-Train= \",X_train)\n",
    "#print(\"X-Test= \",X_test)\n",
    "#print(\"Y-Train= \",Y_train)\n",
    "# print(\"Y-Test= \",Y_test)"
   ]
  },
  {
   "cell_type": "code",
   "execution_count": 21,
   "metadata": {},
   "outputs": [
    {
     "name": "stdout",
     "output_type": "stream",
     "text": "0.911111111111\n[[12  0  0]\n [ 0 15  1]\n [ 0  3 14]]\n                 precision    recall  f1-score   support\n\n    Iris-setosa       1.00      1.00      1.00        12\nIris-versicolor       0.83      0.94      0.88        16\n Iris-virginica       0.93      0.82      0.87        17\n\n    avg / total       0.92      0.91      0.91        45\n\n"
    }
   ],
   "source": [
    "# Make predictions\n",
    "knn = KNeighborsClassifier()\n",
    "knn.fit(X_train, Y_train)\n",
    "predictions = knn.predict(X_test)\n",
    "print(accuracy_score(Y_test, predictions))\n",
    "print(confusion_matrix(Y_test, predictions))\n",
    "print(classification_report(Y_test, predictions))"
   ]
  },
  {
   "cell_type": "code",
   "execution_count": 23,
   "metadata": {},
   "outputs": [
    {
     "name": "stdout",
     "output_type": "stream",
     "text": "K= 1   Accuracy=  0.933333333333\n K= 2   Accuracy=  0.955555555556\n K= 3   Accuracy=  0.933333333333\n K= 4   Accuracy=  0.911111111111\n K= 5   Accuracy=  0.911111111111\n K= 6   Accuracy=  0.911111111111\n K= 7   Accuracy=  0.933333333333\n K= 8   Accuracy=  0.911111111111\n K= 9   Accuracy=  0.911111111111\n K= 10   Accuracy=  0.955555555556\n"
    }
   ],
   "source": [
    "for k in range(1,11):\n",
    "    knn = KNeighborsClassifier(n_neighbors=k)\n",
    "    knn.fit(X_train, Y_train)\n",
    "    predictions = knn.predict(X_test)\n",
    "    print(\" K=\",k,\"  Accuracy= \",accuracy_score(Y_test, predictions))\n"
   ]
  },
  {
   "cell_type": "code",
   "execution_count": 24,
   "metadata": {},
   "outputs": [
    {
     "name": "stdout",
     "output_type": "stream",
     "text": "Seed= 1   Accuracy=  0.977777777778\n Seed= 2   Accuracy=  1.0\n Seed= 3   Accuracy=  0.955555555556\n Seed= 4   Accuracy=  0.977777777778\n Seed= 5   Accuracy=  0.955555555556\n Seed= 6   Accuracy=  0.977777777778\n Seed= 7   Accuracy=  0.911111111111\n Seed= 8   Accuracy=  0.955555555556\n Seed= 9   Accuracy=  1.0\n Seed= 10   Accuracy=  0.977777777778\n"
    }
   ],
   "source": [
    "for s in range(1,11):\n",
    "    X_train, X_test, Y_train, Y_test = train_test_split(X, Y, test_size=t_size,\n",
    "    random_state=s)\n",
    "    knn = KNeighborsClassifier()\n",
    "    knn.fit(X_train, Y_train)\n",
    "    predictions = knn.predict(X_test)\n",
    "    print(\" Seed=\",s,\"  Accuracy= \",accuracy_score(Y_test, predictions))\n"
   ]
  },
  {
   "cell_type": "code",
   "execution_count": 1,
   "metadata": {},
   "outputs": [
    {
     "output_type": "execute_result",
     "data": {
      "text/plain": [
       "   temperature  humidity  light     CO2  humidity ratio  occupancy\n",
       "1        23.18   27.2720  426.0  721.25        0.004793          1\n",
       "2        23.15   27.2675  429.5  714.00        0.004783          1\n",
       "3        23.15   27.2450  426.0  713.50        0.004779          1\n",
       "4        23.15   27.2000  426.0  708.25        0.004772          1\n",
       "5        23.10   27.2000  426.0  704.50        0.004757          1"
      ],
      "text/html": "<div>\n<style scoped>\n    .dataframe tbody tr th:only-of-type {\n        vertical-align: middle;\n    }\n\n    .dataframe tbody tr th {\n        vertical-align: top;\n    }\n\n    .dataframe thead th {\n        text-align: right;\n    }\n</style>\n<table border=\"1\" class=\"dataframe\">\n  <thead>\n    <tr style=\"text-align: right;\">\n      <th></th>\n      <th>temperature</th>\n      <th>humidity</th>\n      <th>light</th>\n      <th>CO2</th>\n      <th>humidity ratio</th>\n      <th>occupancy</th>\n    </tr>\n  </thead>\n  <tbody>\n    <tr>\n      <th>1</th>\n      <td>23.18</td>\n      <td>27.2720</td>\n      <td>426.0</td>\n      <td>721.25</td>\n      <td>0.004793</td>\n      <td>1</td>\n    </tr>\n    <tr>\n      <th>2</th>\n      <td>23.15</td>\n      <td>27.2675</td>\n      <td>429.5</td>\n      <td>714.00</td>\n      <td>0.004783</td>\n      <td>1</td>\n    </tr>\n    <tr>\n      <th>3</th>\n      <td>23.15</td>\n      <td>27.2450</td>\n      <td>426.0</td>\n      <td>713.50</td>\n      <td>0.004779</td>\n      <td>1</td>\n    </tr>\n    <tr>\n      <th>4</th>\n      <td>23.15</td>\n      <td>27.2000</td>\n      <td>426.0</td>\n      <td>708.25</td>\n      <td>0.004772</td>\n      <td>1</td>\n    </tr>\n    <tr>\n      <th>5</th>\n      <td>23.10</td>\n      <td>27.2000</td>\n      <td>426.0</td>\n      <td>704.50</td>\n      <td>0.004757</td>\n      <td>1</td>\n    </tr>\n  </tbody>\n</table>\n</div>"
     },
     "metadata": {},
     "execution_count": 1
    }
   ],
   "source": [
    "#Q2\n",
    "import pandas\n",
    "from sklearn.model_selection import train_test_split\n",
    "from sklearn.metrics import classification_report\n",
    "from sklearn.metrics import confusion_matrix\n",
    "from sklearn.metrics import accuracy_score\n",
    "from sklearn.neighbors import KNeighborsClassifier\n",
    "names = ['date', 'temperature', 'humidity', 'light', 'CO2','humidity ratio','occupancy']\n",
    "training_dataset = pandas.read_csv(\"datatraining.txt\", names=names,skiprows=1)\n",
    "testing_dataset1 = pandas.read_csv(\"datatest.txt\", names=names,skiprows=1)\n",
    "testing_dataset2 = pandas.read_csv(\"datatest2.txt\", names=names,skiprows=1)\n",
    "training_dataset.drop('date',axis='columns', inplace=True)\n",
    "testing_dataset1.drop('date',axis='columns', inplace=True)\n",
    "testing_dataset2.drop('date',axis='columns', inplace=True)\n",
    "training_dataset.head()"
   ]
  },
  {
   "cell_type": "code",
   "execution_count": 2,
   "metadata": {},
   "outputs": [
    {
     "output_type": "execute_result",
     "data": {
      "text/plain": [
       "(8143, 6)"
      ]
     },
     "metadata": {},
     "execution_count": 2
    }
   ],
   "source": [
    "training_dataset.shape"
   ]
  },
  {
   "cell_type": "code",
   "execution_count": 3,
   "metadata": {},
   "outputs": [
    {
     "output_type": "execute_result",
     "data": {
      "text/plain": [
       "occupancy\n",
       "0    6414\n",
       "1    1729\n",
       "dtype: int64"
      ]
     },
     "metadata": {},
     "execution_count": 3
    }
   ],
   "source": [
    "training_dataset.groupby('occupancy').size()"
   ]
  },
  {
   "cell_type": "code",
   "execution_count": 4,
   "metadata": {},
   "outputs": [],
   "source": [
    "training_datasetv = training_dataset.values\n",
    "testing_dataset1v = testing_dataset1.values\n",
    "X_train = training_datasetv[:,0:5]\n",
    "Y_train = training_datasetv[:,5]\n",
    "X_test = testing_dataset1v[:,0:5]\n",
    "Y_test = testing_dataset1v[:,5]"
   ]
  },
  {
   "cell_type": "code",
   "execution_count": 59,
   "metadata": {},
   "outputs": [
    {
     "output_type": "stream",
     "name": "stdout",
     "text": [
      "[1. 1. 1. ... 1. 1. 1.]\n0.9425891181988743\n[[1645   48]\n [ 105  867]]\n              precision    recall  f1-score   support\n\n         0.0       0.94      0.97      0.96      1693\n         1.0       0.95      0.89      0.92       972\n\n    accuracy                           0.94      2665\n   macro avg       0.94      0.93      0.94      2665\nweighted avg       0.94      0.94      0.94      2665\n\n"
     ]
    }
   ],
   "source": [
    "knn = KNeighborsClassifier()\n",
    "knn.fit(X_train, Y_train)\n",
    "predictions = knn.predict(X_test)\n",
    "#print(predictions)\n",
    "print(accuracy_score(Y_test, predictions))\n",
    "print(confusion_matrix(Y_test, predictions))\n",
    "print(classification_report(Y_test, predictions))"
   ]
  },
  {
   "cell_type": "code",
   "execution_count": 6,
   "metadata": {},
   "outputs": [
    {
     "output_type": "stream",
     "name": "stdout",
     "text": [
      "K =  1   0.9365853658536586\n",
      "K =  2   0.9230769230769231\n",
      "K =  3   0.9350844277673546\n",
      "K =  4   0.9275797373358349\n",
      "K =  5   0.9425891181988743\n",
      "K =  6   0.9324577861163227\n",
      "K =  7   0.9609756097560975\n",
      "K =  8   0.9549718574108818\n",
      "K =  9   0.9617260787992495\n"
     ]
    }
   ],
   "source": [
    "for i in range(1,10):\n",
    "    knn = KNeighborsClassifier(n_neighbors=i) \n",
    "    knn.fit(X_train, Y_train) \n",
    "    predictions = knn.predict(X_test) \n",
    "    print(\"K = \",i,\" \",accuracy_score(Y_test, predictions))"
   ]
  },
  {
   "cell_type": "code",
   "execution_count": 14,
   "metadata": {},
   "outputs": [
    {
     "output_type": "execute_result",
     "data": {
      "text/plain": [
       "   sepal-length  sepal-width  petal-length  petal-width        class\n",
       "0           5.1          3.5           1.4          0.2  Iris-setosa\n",
       "1           4.9          3.0           1.4          0.2  Iris-setosa\n",
       "2           4.7          3.2           1.3          0.2  Iris-setosa\n",
       "3           4.6          3.1           1.5          0.2  Iris-setosa\n",
       "4           5.0          3.6           1.4          0.2  Iris-setosa"
      ],
      "text/html": "<div>\n<style scoped>\n    .dataframe tbody tr th:only-of-type {\n        vertical-align: middle;\n    }\n\n    .dataframe tbody tr th {\n        vertical-align: top;\n    }\n\n    .dataframe thead th {\n        text-align: right;\n    }\n</style>\n<table border=\"1\" class=\"dataframe\">\n  <thead>\n    <tr style=\"text-align: right;\">\n      <th></th>\n      <th>sepal-length</th>\n      <th>sepal-width</th>\n      <th>petal-length</th>\n      <th>petal-width</th>\n      <th>class</th>\n    </tr>\n  </thead>\n  <tbody>\n    <tr>\n      <th>0</th>\n      <td>5.1</td>\n      <td>3.5</td>\n      <td>1.4</td>\n      <td>0.2</td>\n      <td>Iris-setosa</td>\n    </tr>\n    <tr>\n      <th>1</th>\n      <td>4.9</td>\n      <td>3.0</td>\n      <td>1.4</td>\n      <td>0.2</td>\n      <td>Iris-setosa</td>\n    </tr>\n    <tr>\n      <th>2</th>\n      <td>4.7</td>\n      <td>3.2</td>\n      <td>1.3</td>\n      <td>0.2</td>\n      <td>Iris-setosa</td>\n    </tr>\n    <tr>\n      <th>3</th>\n      <td>4.6</td>\n      <td>3.1</td>\n      <td>1.5</td>\n      <td>0.2</td>\n      <td>Iris-setosa</td>\n    </tr>\n    <tr>\n      <th>4</th>\n      <td>5.0</td>\n      <td>3.6</td>\n      <td>1.4</td>\n      <td>0.2</td>\n      <td>Iris-setosa</td>\n    </tr>\n  </tbody>\n</table>\n</div>"
     },
     "metadata": {},
     "execution_count": 14
    }
   ],
   "source": [
    "dataset.head()"
   ]
  },
  {
   "cell_type": "code",
   "execution_count": 35,
   "metadata": {},
   "outputs": [],
   "source": [
    "#Q3\n",
    "import numpy as np"
   ]
  },
  {
   "cell_type": "code",
   "execution_count": 65,
   "metadata": {
    "tags": []
   },
   "outputs": [
    {
     "output_type": "stream",
     "name": "stdout",
     "text": [
      "For the given test data:\n[5.1, 3.5, 1.4, 0.2]\nPredicted class is:\n1NN:  ('Iris-setosa', 0.0023985497141263377)\nFor the given test data:\n[23.18, 27.272, 426.0, 721.25, 0.0047929881765052]\nPredicted class is:\n1NN:  (0.0, 2.57609335447451)\n"
     ]
    }
   ],
   "source": [
    "def ChiSq(row1,row2):\n",
    "    dist=0.0\n",
    "    for i in range(len(row1)-1):\n",
    "        dist+=(row1[i]-row2[i])**2/(row1[i]+row2[i])\n",
    "    return dist\n",
    "def Neighbor(train_data, test_row):\n",
    "    distances = list()\n",
    "    for i in train_data:\n",
    "        dist=ChiSq(test_row,i)\n",
    "        distances.append((i[-1],dist))\n",
    "    print(\"For the given test data:\")\n",
    "    print(test_row[:-1])\n",
    "    print(\"Predicted class is:\")\n",
    "    print(\"1NN: \",min(distances))\n",
    "\n",
    "def InitiatorSelf1NN(dataset):\n",
    "    dataset.reset_index(drop=True,inplace=True)\n",
    "    train_data=list(list(dataset.values))\n",
    "    test_row=train_data[0]\n",
    "    test_row=list(test_row)\n",
    "    train_data.pop(0)\n",
    "    Neighbor(train_data,test_row)\n",
    "InitiatorSelf1NN(dataset)\n",
    "InitiatorSelf1NN(training_dataset)\n"
   ]
  },
  {
   "cell_type": "code",
   "execution_count": null,
   "metadata": {},
   "outputs": [],
   "source": []
  }
 ]
}