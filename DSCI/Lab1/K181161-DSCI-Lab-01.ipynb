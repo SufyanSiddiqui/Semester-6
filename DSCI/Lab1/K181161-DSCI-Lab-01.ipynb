{
 "cells": [
  {
   "cell_type": "code",
   "execution_count": 2,
   "metadata": {},
   "outputs": [
    {
     "output_type": "stream",
     "name": "stdout",
     "text": [
      "Only Complex Roots\n"
     ]
    }
   ],
   "source": [
    "#Q2\n",
    "\n",
    "a=int(input(\"Enter a\"))\n",
    "b=int(input(\"Enter b\"))\n",
    "c=int(input(\"Enter c\"))\n",
    "\n",
    "d=(pow(b,2))-(4*a*c)\n",
    "\n",
    "if d>0:\n",
    "    root1=(-b + math.sqrt(d))/2*a\n",
    "    root2=(-b - math.sqrt(d))/2*a\n",
    "    print(\"Root1:\",root1)\n",
    "    print(\"Root2:\",root2)\n",
    "if d==0:\n",
    "    root=(-b)/2*a\n",
    "    print(\"Real Root\",root)\n",
    "else:\n",
    "    print(\"Only Complex Roots\")"
   ]
  },
  {
   "cell_type": "code",
   "execution_count": 11,
   "metadata": {},
   "outputs": [
    {
     "name": "stdout",
     "output_type": "stream",
     "text": [
      "13 < 43\n",
      "21 < 43\n",
      "20 < 43\n",
      "12 < 43\n",
      "6 < 43\n",
      "5\n"
     ]
    }
   ],
   "source": [
    "#Q3\n",
    "x = [13, 56, 21, 45, 20, 43, 12, 43, 6]\n",
    "def smaller(a,size,element):\n",
    "    count=0\n",
    "    for i in a:\n",
    "        if i<element:\n",
    "            print(i,\"<\",element)\n",
    "            count+=1\n",
    "    return count\n",
    "\n",
    "print(smaller(x,9,43))"
   ]
  },
  {
   "cell_type": "code",
   "execution_count": 4,
   "metadata": {},
   "outputs": [
    {
     "name": "stdout",
     "output_type": "stream",
     "text": [
      "{35, 12, 155, 24, 88, 120}\n"
     ]
    }
   ],
   "source": [
    "#Q4\n",
    "y= [12,24,35,24,88,120,155,88,120,155]\n",
    "print(set(y))\n"
   ]
  },
  {
   "cell_type": "code",
   "execution_count": 9,
   "metadata": {},
   "outputs": [
    {
     "name": "stdout",
     "output_type": "stream",
     "text": [
      "[35]\n"
     ]
    }
   ],
   "source": [
    "#Q5\n",
    "a= [1,3,6,78,35,55]\n",
    "b=[12,24,35,24,88,120,155]\n",
    "def Intersection(x,y):\n",
    "    c=list(set(x)&set(y))\n",
    "    return c\n",
    "\n",
    "\n",
    "print(Intersection(a, b))"
   ]
  },
  {
   "cell_type": "code",
   "execution_count": 10,
   "metadata": {},
   "outputs": [
    {
     "name": "stdout",
     "output_type": "stream",
     "text": [
      "Enter weight 80\n",
      "Enter height 6\n",
      "BMI is 2.2222222222222223\n"
     ]
    }
   ],
   "source": [
    "#Q6\n",
    "weight=int(input(\"Enter weight \"))\n",
    "height=int(input(\"Enter height \"))\n",
    "print(\"BMI is\",weight/pow(height,2))"
   ]
  },
  {
   "cell_type": "code",
   "execution_count": 12,
   "metadata": {},
   "outputs": [
    {
     "name": "stdout",
     "output_type": "stream",
     "text": [
      "Sales after seven years 241340.45\n"
     ]
    }
   ],
   "source": [
    "#Q7\n",
    "growth_multiplier=1.3\n",
    "sales = 50000\n",
    "for i in range(0,6):\n",
    "    sales=sales*1.3\n",
    "print(\"Sales after seven years\",sales)"
   ]
  },
  {
   "cell_type": "code",
   "execution_count": 14,
   "metadata": {},
   "outputs": [
    {
     "name": "stdout",
     "output_type": "stream",
     "text": [
      "Enter your mass300\n",
      "Weighing in Stone 47.142857142857146\n"
     ]
    }
   ],
   "source": [
    "#Q8\n",
    "mass=int(input(\"Enter your mass\"))\n",
    "Mstone =(mass *2.2)/14\n",
    "print(\"Weighing in Stone\",Mstone)"
   ]
  },
  {
   "cell_type": "code",
   "execution_count": 1,
   "metadata": {},
   "outputs": [
    {
     "output_type": "stream",
     "name": "stdout",
     "text": [
      "['Kitchen77.0', 'Bed8.0', 'Lounge86.0', 'Store66.0', 'Washroom45.0']\n"
     ]
    }
   ],
   "source": [
    "#Q9\n",
    "items=list()\n",
    "for x in range(0,5):\n",
    "    name=input(\"Enter the name of room \")\n",
    "    area=float(input(\"Enter the area\"))\n",
    "    item=name+str(area)\n",
    "    items.append(item)\n",
    "\n",
    "print(items)"
   ]
  },
  {
   "cell_type": "code",
   "execution_count": 3,
   "metadata": {},
   "outputs": [
    {
     "output_type": "execute_result",
     "data": {
      "text/plain": [
       "['Sufyan',\n",
       " [3.16, 3.73, 3.3, 3.9, 3.8, 3.8],\n",
       " 'Ali',\n",
       " [2.16, 2.73, 2.3, 2.9, 2.8, 2.8],\n",
       " 'Zarrar',\n",
       " [4.0, 4.0, 4.0, 4.0, 4.0, 4.0]]"
      ]
     },
     "metadata": {},
     "execution_count": 3
    }
   ],
   "source": [
    "#Q10\n",
    "s1=[3.16,3.73,3.3,3.9,3.8,3.8]\n",
    "s2=[2.16,2.73,2.3,2.9,2.8,2.8]\n",
    "s3=[4.0,4.0,4.0,4.0,4.0,4.0]\n",
    "Students=['Sufyan',s1,'Ali',s2,'Zarrar',s3]\n",
    "Students"
   ]
  },
  {
   "cell_type": "code",
   "execution_count": null,
   "metadata": {},
   "outputs": [],
   "source": []
  }
 ],
 "metadata": {
  "kernelspec": {
   "name": "python3",
   "display_name": "Python 3.8.6 64-bit",
   "metadata": {
    "interpreter": {
     "hash": "084b600058337c1ed128ca8083189dc1e4acdaba21b28d93c78c8c5801a2baae"
    }
   }
  },
  "language_info": {
   "codemirror_mode": {
    "name": "ipython",
    "version": 3
   },
   "file_extension": ".py",
   "mimetype": "text/x-python",
   "name": "python",
   "nbconvert_exporter": "python",
   "pygments_lexer": "ipython3",
   "version": "3.8.6-final"
  }
 },
 "nbformat": 4,
 "nbformat_minor": 4
}