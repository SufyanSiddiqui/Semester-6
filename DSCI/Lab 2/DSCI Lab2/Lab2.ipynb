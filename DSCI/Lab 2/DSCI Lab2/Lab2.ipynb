{
 "nbformat": 4,
 "nbformat_minor": 2,
 "metadata": {
  "language_info": {
   "name": "python",
   "codemirror_mode": {
    "name": "ipython",
    "version": 3
   },
   "version": "3.6.1-final"
  },
  "orig_nbformat": 2,
  "file_extension": ".py",
  "mimetype": "text/x-python",
  "name": "python",
  "npconvert_exporter": "python",
  "pygments_lexer": "ipython3",
  "version": 3,
  "kernelspec": {
   "name": "python36164bitrootcondabd58e786ceaf49f3af819c44a0b79c34",
   "display_name": "Python 3.6.1 64-bit ('root': conda)"
  }
 },
 "cells": [
  {
   "cell_type": "code",
   "execution_count": 1,
   "metadata": {},
   "outputs": [
    {
     "name": "stdout",
     "output_type": "stream",
     "text": "Unnamed: 0  A    B  C\n0           0  1  2.0  3\n1           1  4  5.0  6\n2           4  2  NaN  5\n"
    }
   ],
   "source": [
    "\n",
    "c1=pd.read_csv(\"data1.csv\")\n",
    "print(c1)"
   ]
  },
  {
   "cell_type": "code",
   "execution_count": 7,
   "metadata": {},
   "outputs": [
    {
     "name": "stdout",
     "output_type": "stream",
     "text": "A    B  C\n0  1  2.0  3\n1  4  5.0  6\n4  2  NaN  5\n       A  B  C\n2      2  5  6\n3  Hello  3  4\n"
    }
   ],
   "source": [
    "import pandas as pd\n",
    "c1=pd.read_csv(\"data1.csv\",index_col=0)\n",
    "df1=pd.DataFrame(c1)\n",
    "print(df1)\n",
    "df2=pd.read_csv(\"data2.csv\",index_col=1)\n",
    "print(df2)\n"
   ]
  },
  {
   "cell_type": "code",
   "execution_count": 11,
   "metadata": {},
   "outputs": [
    {
     "name": "stdout",
     "output_type": "stream",
     "text": "A    B  C\n0      1  2.0  3\n1      4  5.0  6\n4      2  NaN  5\n2      2  5.0  6\n3  Hello  3.0  4\n"
    }
   ],
   "source": [
    "#Q2\n",
    "df3=pd.concat([df1,df2])\n",
    "print(df3)"
   ]
  },
  {
   "cell_type": "code",
   "execution_count": 23,
   "metadata": {},
   "outputs": [
    {
     "name": "stdout",
     "output_type": "stream",
     "text": "Data Frame 4\n   D  E\n1  1  7\n4  0  8\nData Frame 5\n       A    B  C    D    E\n0      1  2.0  3  NaN  NaN\n1      4  5.0  6  1.0  7.0\n2      2  5.0  6  NaN  NaN\n3  Hello  3.0  4  NaN  NaN\n4      2  NaN  5  0.0  8.0\n"
    }
   ],
   "source": [
    "#Q3\n",
    "df4=pd.read_csv(\"data3.csv\",index_col=0)\n",
    "print(\"Data Frame 4\")\n",
    "print(df4)\n",
    "print(\"Data Frame 5\")\n",
    "df5=pd.concat([df3,df4],axis=1)\n",
    "print(df5)"
   ]
  },
  {
   "cell_type": "code",
   "execution_count": null,
   "metadata": {},
   "outputs": [],
   "source": []
  }
 ]
}